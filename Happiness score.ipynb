{
 "cells": [
  {
   "cell_type": "code",
   "execution_count": 1,
   "metadata": {},
   "outputs": [],
   "source": [
    "#Importing libraries\n",
    "import pandas as pd\n",
    "import numpy as np\n",
    "from sklearn.preprocessing import StandardScaler\n",
    "from sklearn.linear_model import LinearRegression\n",
    "from sklearn.model_selection import train_test_split\n",
    "import statsmodels.api as sm\n",
    "import matplotlib.pyplot as plt\n",
    "import seaborn as sns\n",
    "import pickle"
   ]
  },
  {
   "cell_type": "code",
   "execution_count": 2,
   "metadata": {},
   "outputs": [
    {
     "data": {
      "text/html": [
       "<div>\n",
       "<style scoped>\n",
       "    .dataframe tbody tr th:only-of-type {\n",
       "        vertical-align: middle;\n",
       "    }\n",
       "\n",
       "    .dataframe tbody tr th {\n",
       "        vertical-align: top;\n",
       "    }\n",
       "\n",
       "    .dataframe thead th {\n",
       "        text-align: right;\n",
       "    }\n",
       "</style>\n",
       "<table border=\"1\" class=\"dataframe\">\n",
       "  <thead>\n",
       "    <tr style=\"text-align: right;\">\n",
       "      <th></th>\n",
       "      <th>Country</th>\n",
       "      <th>Region</th>\n",
       "      <th>Happiness Rank</th>\n",
       "      <th>Happiness Score</th>\n",
       "      <th>Standard Error</th>\n",
       "      <th>Economy (GDP per Capita)</th>\n",
       "      <th>Family</th>\n",
       "      <th>Health (Life Expectancy)</th>\n",
       "      <th>Freedom</th>\n",
       "      <th>Trust (Government Corruption)</th>\n",
       "      <th>Generosity</th>\n",
       "      <th>Dystopia Residual</th>\n",
       "    </tr>\n",
       "  </thead>\n",
       "  <tbody>\n",
       "    <tr>\n",
       "      <th>0</th>\n",
       "      <td>Switzerland</td>\n",
       "      <td>Western Europe</td>\n",
       "      <td>1</td>\n",
       "      <td>7.587</td>\n",
       "      <td>0.03411</td>\n",
       "      <td>1.39651</td>\n",
       "      <td>1.34951</td>\n",
       "      <td>0.94143</td>\n",
       "      <td>0.66557</td>\n",
       "      <td>0.41978</td>\n",
       "      <td>0.29678</td>\n",
       "      <td>2.51738</td>\n",
       "    </tr>\n",
       "    <tr>\n",
       "      <th>1</th>\n",
       "      <td>Iceland</td>\n",
       "      <td>Western Europe</td>\n",
       "      <td>2</td>\n",
       "      <td>7.561</td>\n",
       "      <td>0.04884</td>\n",
       "      <td>1.30232</td>\n",
       "      <td>1.40223</td>\n",
       "      <td>0.94784</td>\n",
       "      <td>0.62877</td>\n",
       "      <td>0.14145</td>\n",
       "      <td>0.43630</td>\n",
       "      <td>2.70201</td>\n",
       "    </tr>\n",
       "    <tr>\n",
       "      <th>2</th>\n",
       "      <td>Denmark</td>\n",
       "      <td>Western Europe</td>\n",
       "      <td>3</td>\n",
       "      <td>7.527</td>\n",
       "      <td>0.03328</td>\n",
       "      <td>1.32548</td>\n",
       "      <td>1.36058</td>\n",
       "      <td>0.87464</td>\n",
       "      <td>0.64938</td>\n",
       "      <td>0.48357</td>\n",
       "      <td>0.34139</td>\n",
       "      <td>2.49204</td>\n",
       "    </tr>\n",
       "    <tr>\n",
       "      <th>3</th>\n",
       "      <td>Norway</td>\n",
       "      <td>Western Europe</td>\n",
       "      <td>4</td>\n",
       "      <td>7.522</td>\n",
       "      <td>0.03880</td>\n",
       "      <td>1.45900</td>\n",
       "      <td>1.33095</td>\n",
       "      <td>0.88521</td>\n",
       "      <td>0.66973</td>\n",
       "      <td>0.36503</td>\n",
       "      <td>0.34699</td>\n",
       "      <td>2.46531</td>\n",
       "    </tr>\n",
       "    <tr>\n",
       "      <th>4</th>\n",
       "      <td>Canada</td>\n",
       "      <td>North America</td>\n",
       "      <td>5</td>\n",
       "      <td>7.427</td>\n",
       "      <td>0.03553</td>\n",
       "      <td>1.32629</td>\n",
       "      <td>1.32261</td>\n",
       "      <td>0.90563</td>\n",
       "      <td>0.63297</td>\n",
       "      <td>0.32957</td>\n",
       "      <td>0.45811</td>\n",
       "      <td>2.45176</td>\n",
       "    </tr>\n",
       "  </tbody>\n",
       "</table>\n",
       "</div>"
      ],
      "text/plain": [
       "       Country          Region  Happiness Rank  Happiness Score  \\\n",
       "0  Switzerland  Western Europe               1            7.587   \n",
       "1      Iceland  Western Europe               2            7.561   \n",
       "2      Denmark  Western Europe               3            7.527   \n",
       "3       Norway  Western Europe               4            7.522   \n",
       "4       Canada   North America               5            7.427   \n",
       "\n",
       "   Standard Error  Economy (GDP per Capita)   Family  \\\n",
       "0         0.03411                   1.39651  1.34951   \n",
       "1         0.04884                   1.30232  1.40223   \n",
       "2         0.03328                   1.32548  1.36058   \n",
       "3         0.03880                   1.45900  1.33095   \n",
       "4         0.03553                   1.32629  1.32261   \n",
       "\n",
       "   Health (Life Expectancy)  Freedom  Trust (Government Corruption)  \\\n",
       "0                   0.94143  0.66557                        0.41978   \n",
       "1                   0.94784  0.62877                        0.14145   \n",
       "2                   0.87464  0.64938                        0.48357   \n",
       "3                   0.88521  0.66973                        0.36503   \n",
       "4                   0.90563  0.63297                        0.32957   \n",
       "\n",
       "   Generosity  Dystopia Residual  \n",
       "0     0.29678            2.51738  \n",
       "1     0.43630            2.70201  \n",
       "2     0.34139            2.49204  \n",
       "3     0.34699            2.46531  \n",
       "4     0.45811            2.45176  "
      ]
     },
     "execution_count": 2,
     "metadata": {},
     "output_type": "execute_result"
    }
   ],
   "source": [
    "# Read csv file and convert into dataframe\n",
    "data=pd.read_csv('happiness_score_dataset.csv')\n",
    "data.head()"
   ]
  },
  {
   "cell_type": "code",
   "execution_count": 3,
   "metadata": {},
   "outputs": [
    {
     "data": {
      "text/plain": [
       "(158, 12)"
      ]
     },
     "execution_count": 3,
     "metadata": {},
     "output_type": "execute_result"
    }
   ],
   "source": [
    "data.shape"
   ]
  },
  {
   "cell_type": "code",
   "execution_count": 4,
   "metadata": {},
   "outputs": [
    {
     "data": {
      "text/html": [
       "<div>\n",
       "<style scoped>\n",
       "    .dataframe tbody tr th:only-of-type {\n",
       "        vertical-align: middle;\n",
       "    }\n",
       "\n",
       "    .dataframe tbody tr th {\n",
       "        vertical-align: top;\n",
       "    }\n",
       "\n",
       "    .dataframe thead th {\n",
       "        text-align: right;\n",
       "    }\n",
       "</style>\n",
       "<table border=\"1\" class=\"dataframe\">\n",
       "  <thead>\n",
       "    <tr style=\"text-align: right;\">\n",
       "      <th></th>\n",
       "      <th>Happiness Rank</th>\n",
       "      <th>Happiness Score</th>\n",
       "      <th>Standard Error</th>\n",
       "      <th>Economy (GDP per Capita)</th>\n",
       "      <th>Family</th>\n",
       "      <th>Health (Life Expectancy)</th>\n",
       "      <th>Freedom</th>\n",
       "      <th>Trust (Government Corruption)</th>\n",
       "      <th>Generosity</th>\n",
       "      <th>Dystopia Residual</th>\n",
       "    </tr>\n",
       "  </thead>\n",
       "  <tbody>\n",
       "    <tr>\n",
       "      <th>count</th>\n",
       "      <td>158.000000</td>\n",
       "      <td>158.000000</td>\n",
       "      <td>158.000000</td>\n",
       "      <td>158.000000</td>\n",
       "      <td>158.000000</td>\n",
       "      <td>158.000000</td>\n",
       "      <td>158.000000</td>\n",
       "      <td>158.000000</td>\n",
       "      <td>158.000000</td>\n",
       "      <td>158.000000</td>\n",
       "    </tr>\n",
       "    <tr>\n",
       "      <th>mean</th>\n",
       "      <td>79.493671</td>\n",
       "      <td>5.375734</td>\n",
       "      <td>0.047885</td>\n",
       "      <td>0.846137</td>\n",
       "      <td>0.991046</td>\n",
       "      <td>0.630259</td>\n",
       "      <td>0.428615</td>\n",
       "      <td>0.143422</td>\n",
       "      <td>0.237296</td>\n",
       "      <td>2.098977</td>\n",
       "    </tr>\n",
       "    <tr>\n",
       "      <th>std</th>\n",
       "      <td>45.754363</td>\n",
       "      <td>1.145010</td>\n",
       "      <td>0.017146</td>\n",
       "      <td>0.403121</td>\n",
       "      <td>0.272369</td>\n",
       "      <td>0.247078</td>\n",
       "      <td>0.150693</td>\n",
       "      <td>0.120034</td>\n",
       "      <td>0.126685</td>\n",
       "      <td>0.553550</td>\n",
       "    </tr>\n",
       "    <tr>\n",
       "      <th>min</th>\n",
       "      <td>1.000000</td>\n",
       "      <td>2.839000</td>\n",
       "      <td>0.018480</td>\n",
       "      <td>0.000000</td>\n",
       "      <td>0.000000</td>\n",
       "      <td>0.000000</td>\n",
       "      <td>0.000000</td>\n",
       "      <td>0.000000</td>\n",
       "      <td>0.000000</td>\n",
       "      <td>0.328580</td>\n",
       "    </tr>\n",
       "    <tr>\n",
       "      <th>25%</th>\n",
       "      <td>40.250000</td>\n",
       "      <td>4.526000</td>\n",
       "      <td>0.037268</td>\n",
       "      <td>0.545808</td>\n",
       "      <td>0.856823</td>\n",
       "      <td>0.439185</td>\n",
       "      <td>0.328330</td>\n",
       "      <td>0.061675</td>\n",
       "      <td>0.150553</td>\n",
       "      <td>1.759410</td>\n",
       "    </tr>\n",
       "    <tr>\n",
       "      <th>50%</th>\n",
       "      <td>79.500000</td>\n",
       "      <td>5.232500</td>\n",
       "      <td>0.043940</td>\n",
       "      <td>0.910245</td>\n",
       "      <td>1.029510</td>\n",
       "      <td>0.696705</td>\n",
       "      <td>0.435515</td>\n",
       "      <td>0.107220</td>\n",
       "      <td>0.216130</td>\n",
       "      <td>2.095415</td>\n",
       "    </tr>\n",
       "    <tr>\n",
       "      <th>75%</th>\n",
       "      <td>118.750000</td>\n",
       "      <td>6.243750</td>\n",
       "      <td>0.052300</td>\n",
       "      <td>1.158448</td>\n",
       "      <td>1.214405</td>\n",
       "      <td>0.811013</td>\n",
       "      <td>0.549092</td>\n",
       "      <td>0.180255</td>\n",
       "      <td>0.309883</td>\n",
       "      <td>2.462415</td>\n",
       "    </tr>\n",
       "    <tr>\n",
       "      <th>max</th>\n",
       "      <td>158.000000</td>\n",
       "      <td>7.587000</td>\n",
       "      <td>0.136930</td>\n",
       "      <td>1.690420</td>\n",
       "      <td>1.402230</td>\n",
       "      <td>1.025250</td>\n",
       "      <td>0.669730</td>\n",
       "      <td>0.551910</td>\n",
       "      <td>0.795880</td>\n",
       "      <td>3.602140</td>\n",
       "    </tr>\n",
       "  </tbody>\n",
       "</table>\n",
       "</div>"
      ],
      "text/plain": [
       "       Happiness Rank  Happiness Score  Standard Error  \\\n",
       "count      158.000000       158.000000      158.000000   \n",
       "mean        79.493671         5.375734        0.047885   \n",
       "std         45.754363         1.145010        0.017146   \n",
       "min          1.000000         2.839000        0.018480   \n",
       "25%         40.250000         4.526000        0.037268   \n",
       "50%         79.500000         5.232500        0.043940   \n",
       "75%        118.750000         6.243750        0.052300   \n",
       "max        158.000000         7.587000        0.136930   \n",
       "\n",
       "       Economy (GDP per Capita)      Family  Health (Life Expectancy)  \\\n",
       "count                158.000000  158.000000                158.000000   \n",
       "mean                   0.846137    0.991046                  0.630259   \n",
       "std                    0.403121    0.272369                  0.247078   \n",
       "min                    0.000000    0.000000                  0.000000   \n",
       "25%                    0.545808    0.856823                  0.439185   \n",
       "50%                    0.910245    1.029510                  0.696705   \n",
       "75%                    1.158448    1.214405                  0.811013   \n",
       "max                    1.690420    1.402230                  1.025250   \n",
       "\n",
       "          Freedom  Trust (Government Corruption)  Generosity  \\\n",
       "count  158.000000                     158.000000  158.000000   \n",
       "mean     0.428615                       0.143422    0.237296   \n",
       "std      0.150693                       0.120034    0.126685   \n",
       "min      0.000000                       0.000000    0.000000   \n",
       "25%      0.328330                       0.061675    0.150553   \n",
       "50%      0.435515                       0.107220    0.216130   \n",
       "75%      0.549092                       0.180255    0.309883   \n",
       "max      0.669730                       0.551910    0.795880   \n",
       "\n",
       "       Dystopia Residual  \n",
       "count         158.000000  \n",
       "mean            2.098977  \n",
       "std             0.553550  \n",
       "min             0.328580  \n",
       "25%             1.759410  \n",
       "50%             2.095415  \n",
       "75%             2.462415  \n",
       "max             3.602140  "
      ]
     },
     "execution_count": 4,
     "metadata": {},
     "output_type": "execute_result"
    }
   ],
   "source": [
    "#Understand data at high level.Check the statistics of data set\n",
    "data.describe()"
   ]
  },
  {
   "cell_type": "code",
   "execution_count": 5,
   "metadata": {},
   "outputs": [],
   "source": [
    "data.drop(columns=['Standard Error', 'Region', 'Dystopia Residual'], inplace=True)\n"
   ]
  },
  {
   "cell_type": "markdown",
   "metadata": {},
   "source": [
    "Now the data looks good and there are no missing values."
   ]
  },
  {
   "cell_type": "code",
   "execution_count": 6,
   "metadata": {},
   "outputs": [
    {
     "data": {
      "image/png": "[encoded data removed]",
      "text/plain": [
       "<Figure size 1080x1080 with 9 Axes>"
      ]
     },
     "metadata": {
      "needs_background": "light"
     },
     "output_type": "display_data"
    }
   ],
   "source": [
    "data.hist(bins='auto', figsize=(15,15));"
   ]
  },
  {
   "cell_type": "code",
   "execution_count": 7,
   "metadata": {},
   "outputs": [
    {
     "data": {
      "image/png": "[encoded data removed]",
      "text/plain": [
       "<Figure size 720x576 with 16 Axes>"
      ]
     },
     "metadata": {
      "needs_background": "light"
     },
     "output_type": "display_data"
    }
   ],
   "source": [
    "data[['Happiness Score', 'Family','Economy (GDP per Capita)', 'Health (Life Expectancy)', 'Freedom', 'Generosity', 'Trust (Government Corruption)']].plot(kind='box', subplots=True, layout=(4,4), figsize=(10,8), grid=True);"
   ]
  },
  {
   "cell_type": "markdown",
   "metadata": {},
   "source": [
    "Outliers were checked for using boxplots. The output shows there are outliers in the Family,Generosity, and Perceptions of Corruption features."
   ]
  },
  {
   "cell_type": "code",
   "execution_count": 8,
   "metadata": {},
   "outputs": [
    {
     "data": {
      "text/plain": [
       "<matplotlib.axes._subplots.AxesSubplot at 0x22b5acfd490>"
      ]
     },
     "execution_count": 8,
     "metadata": {},
     "output_type": "execute_result"
    },
    {
     "data": {
      "image/png": "[encoded data removed]",
      "text/plain": [
       "<Figure size 1080x720 with 2 Axes>"
      ]
     },
     "metadata": {
      "needs_background": "light"
     },
     "output_type": "display_data"
    }
   ],
   "source": [
    "plt.figure(figsize=(15, 10)) \n",
    "sns.heatmap(data.corr())"
   ]
  },
  {
   "cell_type": "markdown",
   "metadata": {},
   "source": [
    "The map shows that the Happiness Score correlates strongly with GDP per capita and Healthy Life Expectancy. It has a low correlation with Generosity and Trust(Government Corruption). Also, the negative coefficient between Happiness rank and Happiness score shows that they have an inverse relationship,the lower the score, the higher the rank."
   ]
  },
  {
   "cell_type": "markdown",
   "metadata": {},
   "source": [
    "We can further use a scatter plot to view the relationship between Happiness Score and GDP per capita.\n"
   ]
  },
  {
   "cell_type": "code",
   "execution_count": 9,
   "metadata": {},
   "outputs": [
    {
     "data": {
      "image/png": "[encoded data removed]",
      "text/plain": [
       "<Figure size 432x288 with 1 Axes>"
      ]
     },
     "metadata": {
      "needs_background": "light"
     },
     "output_type": "display_data"
    }
   ],
   "source": [
    "happiness_score = data['Happiness Score']\n",
    "gdp= data['Economy (GDP per Capita)']\n",
    "\n",
    "plt.scatter(happiness_score, gdp)\n",
    "plt.title('Scatter plot of Happiness vs GDP')\n",
    "plt.xlabel('Happiness Score')\n",
    "plt.ylabel('GDP per capita')\n",
    "plt.show()"
   ]
  },
  {
   "cell_type": "code",
   "execution_count": 10,
   "metadata": {},
   "outputs": [
    {
     "data": {
      "text/html": [
       "<div>\n",
       "<style scoped>\n",
       "    .dataframe tbody tr th:only-of-type {\n",
       "        vertical-align: middle;\n",
       "    }\n",
       "\n",
       "    .dataframe tbody tr th {\n",
       "        vertical-align: top;\n",
       "    }\n",
       "\n",
       "    .dataframe thead th {\n",
       "        text-align: right;\n",
       "    }\n",
       "</style>\n",
       "<table border=\"1\" class=\"dataframe\">\n",
       "  <thead>\n",
       "    <tr style=\"text-align: right;\">\n",
       "      <th></th>\n",
       "      <th>Economy (GDP per Capita)</th>\n",
       "    </tr>\n",
       "    <tr>\n",
       "      <th>Country</th>\n",
       "      <th></th>\n",
       "    </tr>\n",
       "  </thead>\n",
       "  <tbody>\n",
       "    <tr>\n",
       "      <th>Qatar</th>\n",
       "      <td>1.69042</td>\n",
       "    </tr>\n",
       "    <tr>\n",
       "      <th>Luxembourg</th>\n",
       "      <td>1.56391</td>\n",
       "    </tr>\n",
       "    <tr>\n",
       "      <th>Kuwait</th>\n",
       "      <td>1.55422</td>\n",
       "    </tr>\n",
       "    <tr>\n",
       "      <th>Singapore</th>\n",
       "      <td>1.52186</td>\n",
       "    </tr>\n",
       "    <tr>\n",
       "      <th>Norway</th>\n",
       "      <td>1.45900</td>\n",
       "    </tr>\n",
       "  </tbody>\n",
       "</table>\n",
       "</div>"
      ],
      "text/plain": [
       "            Economy (GDP per Capita)\n",
       "Country                             \n",
       "Qatar                        1.69042\n",
       "Luxembourg                   1.56391\n",
       "Kuwait                       1.55422\n",
       "Singapore                    1.52186\n",
       "Norway                       1.45900"
      ]
     },
     "execution_count": 10,
     "metadata": {},
     "output_type": "execute_result"
    }
   ],
   "source": [
    "#Happy countries\n",
    "happy_countries = data[['Country', 'Economy (GDP per Capita)']].groupby('Country').mean().sort_values(by='Economy (GDP per Capita)', ascending=False)\n",
    "happy_countries.head()"
   ]
  },
  {
   "cell_type": "code",
   "execution_count": 11,
   "metadata": {},
   "outputs": [
    {
     "data": {
      "text/html": [
       "<div>\n",
       "<style scoped>\n",
       "    .dataframe tbody tr th:only-of-type {\n",
       "        vertical-align: middle;\n",
       "    }\n",
       "\n",
       "    .dataframe tbody tr th {\n",
       "        vertical-align: top;\n",
       "    }\n",
       "\n",
       "    .dataframe thead th {\n",
       "        text-align: right;\n",
       "    }\n",
       "</style>\n",
       "<table border=\"1\" class=\"dataframe\">\n",
       "  <thead>\n",
       "    <tr style=\"text-align: right;\">\n",
       "      <th></th>\n",
       "      <th>Economy (GDP per Capita)</th>\n",
       "    </tr>\n",
       "    <tr>\n",
       "      <th>Country</th>\n",
       "      <th></th>\n",
       "    </tr>\n",
       "  </thead>\n",
       "  <tbody>\n",
       "    <tr>\n",
       "      <th>Congo (Kinshasa)</th>\n",
       "      <td>0.00000</td>\n",
       "    </tr>\n",
       "    <tr>\n",
       "      <th>Burundi</th>\n",
       "      <td>0.01530</td>\n",
       "    </tr>\n",
       "    <tr>\n",
       "      <th>Malawi</th>\n",
       "      <td>0.01604</td>\n",
       "    </tr>\n",
       "    <tr>\n",
       "      <th>Niger</th>\n",
       "      <td>0.06940</td>\n",
       "    </tr>\n",
       "    <tr>\n",
       "      <th>Liberia</th>\n",
       "      <td>0.07120</td>\n",
       "    </tr>\n",
       "  </tbody>\n",
       "</table>\n",
       "</div>"
      ],
      "text/plain": [
       "                  Economy (GDP per Capita)\n",
       "Country                                   \n",
       "Congo (Kinshasa)                   0.00000\n",
       "Burundi                            0.01530\n",
       "Malawi                             0.01604\n",
       "Niger                              0.06940\n",
       "Liberia                            0.07120"
      ]
     },
     "execution_count": 11,
     "metadata": {},
     "output_type": "execute_result"
    }
   ],
   "source": [
    "#Sad countries\n",
    "sad_countries=data[['Country','Economy (GDP per Capita)']].groupby('Country').mean().sort_values(by='Economy (GDP per Capita)',ascending=True)\n",
    "sad_countries.head()"
   ]
  },
  {
   "cell_type": "code",
   "execution_count": 12,
   "metadata": {},
   "outputs": [
    {
     "data": {
      "text/html": [
       "<div>\n",
       "<style scoped>\n",
       "    .dataframe tbody tr th:only-of-type {\n",
       "        vertical-align: middle;\n",
       "    }\n",
       "\n",
       "    .dataframe tbody tr th {\n",
       "        vertical-align: top;\n",
       "    }\n",
       "\n",
       "    .dataframe thead th {\n",
       "        text-align: right;\n",
       "    }\n",
       "</style>\n",
       "<table border=\"1\" class=\"dataframe\">\n",
       "  <thead>\n",
       "    <tr style=\"text-align: right;\">\n",
       "      <th></th>\n",
       "      <th>Country</th>\n",
       "      <th>Health (Life Expectancy)</th>\n",
       "    </tr>\n",
       "  </thead>\n",
       "  <tbody>\n",
       "    <tr>\n",
       "      <th>23</th>\n",
       "      <td>Singapore</td>\n",
       "      <td>1.02525</td>\n",
       "    </tr>\n",
       "    <tr>\n",
       "      <th>71</th>\n",
       "      <td>Hong Kong</td>\n",
       "      <td>1.01328</td>\n",
       "    </tr>\n",
       "    <tr>\n",
       "      <th>45</th>\n",
       "      <td>Japan</td>\n",
       "      <td>0.99111</td>\n",
       "    </tr>\n",
       "    <tr>\n",
       "      <th>46</th>\n",
       "      <td>South Korea</td>\n",
       "      <td>0.96538</td>\n",
       "    </tr>\n",
       "    <tr>\n",
       "      <th>35</th>\n",
       "      <td>Spain</td>\n",
       "      <td>0.95562</td>\n",
       "    </tr>\n",
       "  </tbody>\n",
       "</table>\n",
       "</div>"
      ],
      "text/plain": [
       "        Country  Health (Life Expectancy)\n",
       "23    Singapore                   1.02525\n",
       "71    Hong Kong                   1.01328\n",
       "45        Japan                   0.99111\n",
       "46  South Korea                   0.96538\n",
       "35        Spain                   0.95562"
      ]
     },
     "execution_count": 12,
     "metadata": {},
     "output_type": "execute_result"
    }
   ],
   "source": [
    "#Countries with highest life expectency\n",
    "healthy_countries = data[['Country', 'Health (Life Expectancy)']].sort_values(by='Health (Life Expectancy)', ascending=False)\n",
    "healthy_countries.head()"
   ]
  },
  {
   "cell_type": "code",
   "execution_count": 13,
   "metadata": {},
   "outputs": [
    {
     "data": {
      "text/html": [
       "<div>\n",
       "<style scoped>\n",
       "    .dataframe tbody tr th:only-of-type {\n",
       "        vertical-align: middle;\n",
       "    }\n",
       "\n",
       "    .dataframe tbody tr th {\n",
       "        vertical-align: top;\n",
       "    }\n",
       "\n",
       "    .dataframe thead th {\n",
       "        text-align: right;\n",
       "    }\n",
       "</style>\n",
       "<table border=\"1\" class=\"dataframe\">\n",
       "  <thead>\n",
       "    <tr style=\"text-align: right;\">\n",
       "      <th></th>\n",
       "      <th>Country</th>\n",
       "      <th>Health (Life Expectancy)</th>\n",
       "    </tr>\n",
       "  </thead>\n",
       "  <tbody>\n",
       "    <tr>\n",
       "      <th>122</th>\n",
       "      <td>Sierra Leone</td>\n",
       "      <td>0.00000</td>\n",
       "    </tr>\n",
       "    <tr>\n",
       "      <th>127</th>\n",
       "      <td>Botswana</td>\n",
       "      <td>0.04776</td>\n",
       "    </tr>\n",
       "    <tr>\n",
       "      <th>147</th>\n",
       "      <td>Central African Republic</td>\n",
       "      <td>0.06699</td>\n",
       "    </tr>\n",
       "    <tr>\n",
       "      <th>100</th>\n",
       "      <td>Swaziland</td>\n",
       "      <td>0.07566</td>\n",
       "    </tr>\n",
       "    <tr>\n",
       "      <th>96</th>\n",
       "      <td>Lesotho</td>\n",
       "      <td>0.07612</td>\n",
       "    </tr>\n",
       "  </tbody>\n",
       "</table>\n",
       "</div>"
      ],
      "text/plain": [
       "                      Country  Health (Life Expectancy)\n",
       "122              Sierra Leone                   0.00000\n",
       "127                  Botswana                   0.04776\n",
       "147  Central African Republic                   0.06699\n",
       "100                 Swaziland                   0.07566\n",
       "96                    Lesotho                   0.07612"
      ]
     },
     "execution_count": 13,
     "metadata": {},
     "output_type": "execute_result"
    }
   ],
   "source": [
    "# Some countries with extremely low life expectancy\n",
    "low_life_expectancy = data[['Country', 'Health (Life Expectancy)']].sort_values(by='Health (Life Expectancy)', ascending=True)\n",
    "low_life_expectancy.head()"
   ]
  },
  {
   "cell_type": "code",
   "execution_count": 14,
   "metadata": {},
   "outputs": [
    {
     "data": {
      "text/html": [
       "<div>\n",
       "<style scoped>\n",
       "    .dataframe tbody tr th:only-of-type {\n",
       "        vertical-align: middle;\n",
       "    }\n",
       "\n",
       "    .dataframe tbody tr th {\n",
       "        vertical-align: top;\n",
       "    }\n",
       "\n",
       "    .dataframe thead th {\n",
       "        text-align: right;\n",
       "    }\n",
       "</style>\n",
       "<table border=\"1\" class=\"dataframe\">\n",
       "  <thead>\n",
       "    <tr style=\"text-align: right;\">\n",
       "      <th></th>\n",
       "      <th>Country</th>\n",
       "      <th>Happiness Rank</th>\n",
       "      <th>Happiness Score</th>\n",
       "      <th>Economy (GDP per Capita)</th>\n",
       "      <th>Family</th>\n",
       "      <th>Health (Life Expectancy)</th>\n",
       "      <th>Freedom</th>\n",
       "      <th>Trust (Government Corruption)</th>\n",
       "      <th>Generosity</th>\n",
       "    </tr>\n",
       "  </thead>\n",
       "  <tbody>\n",
       "    <tr>\n",
       "      <th>0</th>\n",
       "      <td>Switzerland</td>\n",
       "      <td>1</td>\n",
       "      <td>7.587</td>\n",
       "      <td>1.39651</td>\n",
       "      <td>1.34951</td>\n",
       "      <td>0.94143</td>\n",
       "      <td>0.66557</td>\n",
       "      <td>0.41978</td>\n",
       "      <td>0.29678</td>\n",
       "    </tr>\n",
       "    <tr>\n",
       "      <th>1</th>\n",
       "      <td>Iceland</td>\n",
       "      <td>2</td>\n",
       "      <td>7.561</td>\n",
       "      <td>1.30232</td>\n",
       "      <td>1.40223</td>\n",
       "      <td>0.94784</td>\n",
       "      <td>0.62877</td>\n",
       "      <td>0.14145</td>\n",
       "      <td>0.43630</td>\n",
       "    </tr>\n",
       "    <tr>\n",
       "      <th>2</th>\n",
       "      <td>Denmark</td>\n",
       "      <td>3</td>\n",
       "      <td>7.527</td>\n",
       "      <td>1.32548</td>\n",
       "      <td>1.36058</td>\n",
       "      <td>0.87464</td>\n",
       "      <td>0.64938</td>\n",
       "      <td>0.48357</td>\n",
       "      <td>0.34139</td>\n",
       "    </tr>\n",
       "    <tr>\n",
       "      <th>3</th>\n",
       "      <td>Norway</td>\n",
       "      <td>4</td>\n",
       "      <td>7.522</td>\n",
       "      <td>1.45900</td>\n",
       "      <td>1.33095</td>\n",
       "      <td>0.88521</td>\n",
       "      <td>0.66973</td>\n",
       "      <td>0.36503</td>\n",
       "      <td>0.34699</td>\n",
       "    </tr>\n",
       "    <tr>\n",
       "      <th>4</th>\n",
       "      <td>Canada</td>\n",
       "      <td>5</td>\n",
       "      <td>7.427</td>\n",
       "      <td>1.32629</td>\n",
       "      <td>1.32261</td>\n",
       "      <td>0.90563</td>\n",
       "      <td>0.63297</td>\n",
       "      <td>0.32957</td>\n",
       "      <td>0.45811</td>\n",
       "    </tr>\n",
       "  </tbody>\n",
       "</table>\n",
       "</div>"
      ],
      "text/plain": [
       "       Country  Happiness Rank  Happiness Score  Economy (GDP per Capita)  \\\n",
       "0  Switzerland               1            7.587                   1.39651   \n",
       "1      Iceland               2            7.561                   1.30232   \n",
       "2      Denmark               3            7.527                   1.32548   \n",
       "3       Norway               4            7.522                   1.45900   \n",
       "4       Canada               5            7.427                   1.32629   \n",
       "\n",
       "    Family  Health (Life Expectancy)  Freedom  Trust (Government Corruption)  \\\n",
       "0  1.34951                   0.94143  0.66557                        0.41978   \n",
       "1  1.40223                   0.94784  0.62877                        0.14145   \n",
       "2  1.36058                   0.87464  0.64938                        0.48357   \n",
       "3  1.33095                   0.88521  0.66973                        0.36503   \n",
       "4  1.32261                   0.90563  0.63297                        0.32957   \n",
       "\n",
       "   Generosity  \n",
       "0     0.29678  \n",
       "1     0.43630  \n",
       "2     0.34139  \n",
       "3     0.34699  \n",
       "4     0.45811  "
      ]
     },
     "execution_count": 14,
     "metadata": {},
     "output_type": "execute_result"
    }
   ],
   "source": [
    "data.head()"
   ]
  },
  {
   "cell_type": "markdown",
   "metadata": {},
   "source": [
    "## Modelling and Prediction\n",
    "Here I am using Linear Regression to predict the happiness score."
   ]
  },
  {
   "cell_type": "code",
   "execution_count": 15,
   "metadata": {},
   "outputs": [
    {
     "data": {
      "text/html": [
       "<div>\n",
       "<style scoped>\n",
       "    .dataframe tbody tr th:only-of-type {\n",
       "        vertical-align: middle;\n",
       "    }\n",
       "\n",
       "    .dataframe tbody tr th {\n",
       "        vertical-align: top;\n",
       "    }\n",
       "\n",
       "    .dataframe thead th {\n",
       "        text-align: right;\n",
       "    }\n",
       "</style>\n",
       "<table border=\"1\" class=\"dataframe\">\n",
       "  <thead>\n",
       "    <tr style=\"text-align: right;\">\n",
       "      <th></th>\n",
       "      <th>Happiness Score</th>\n",
       "      <th>Economy (GDP per Capita)</th>\n",
       "      <th>Family</th>\n",
       "      <th>Health (Life Expectancy)</th>\n",
       "      <th>Freedom</th>\n",
       "      <th>Trust (Government Corruption)</th>\n",
       "      <th>Generosity</th>\n",
       "    </tr>\n",
       "  </thead>\n",
       "  <tbody>\n",
       "    <tr>\n",
       "      <th>0</th>\n",
       "      <td>7.587</td>\n",
       "      <td>1.39651</td>\n",
       "      <td>1.34951</td>\n",
       "      <td>0.94143</td>\n",
       "      <td>0.66557</td>\n",
       "      <td>0.41978</td>\n",
       "      <td>0.29678</td>\n",
       "    </tr>\n",
       "    <tr>\n",
       "      <th>1</th>\n",
       "      <td>7.561</td>\n",
       "      <td>1.30232</td>\n",
       "      <td>1.40223</td>\n",
       "      <td>0.94784</td>\n",
       "      <td>0.62877</td>\n",
       "      <td>0.14145</td>\n",
       "      <td>0.43630</td>\n",
       "    </tr>\n",
       "    <tr>\n",
       "      <th>2</th>\n",
       "      <td>7.527</td>\n",
       "      <td>1.32548</td>\n",
       "      <td>1.36058</td>\n",
       "      <td>0.87464</td>\n",
       "      <td>0.64938</td>\n",
       "      <td>0.48357</td>\n",
       "      <td>0.34139</td>\n",
       "    </tr>\n",
       "    <tr>\n",
       "      <th>3</th>\n",
       "      <td>7.522</td>\n",
       "      <td>1.45900</td>\n",
       "      <td>1.33095</td>\n",
       "      <td>0.88521</td>\n",
       "      <td>0.66973</td>\n",
       "      <td>0.36503</td>\n",
       "      <td>0.34699</td>\n",
       "    </tr>\n",
       "    <tr>\n",
       "      <th>4</th>\n",
       "      <td>7.427</td>\n",
       "      <td>1.32629</td>\n",
       "      <td>1.32261</td>\n",
       "      <td>0.90563</td>\n",
       "      <td>0.63297</td>\n",
       "      <td>0.32957</td>\n",
       "      <td>0.45811</td>\n",
       "    </tr>\n",
       "  </tbody>\n",
       "</table>\n",
       "</div>"
      ],
      "text/plain": [
       "   Happiness Score  Economy (GDP per Capita)   Family  \\\n",
       "0            7.587                   1.39651  1.34951   \n",
       "1            7.561                   1.30232  1.40223   \n",
       "2            7.527                   1.32548  1.36058   \n",
       "3            7.522                   1.45900  1.33095   \n",
       "4            7.427                   1.32629  1.32261   \n",
       "\n",
       "   Health (Life Expectancy)  Freedom  Trust (Government Corruption)  \\\n",
       "0                   0.94143  0.66557                        0.41978   \n",
       "1                   0.94784  0.62877                        0.14145   \n",
       "2                   0.87464  0.64938                        0.48357   \n",
       "3                   0.88521  0.66973                        0.36503   \n",
       "4                   0.90563  0.63297                        0.32957   \n",
       "\n",
       "   Generosity  \n",
       "0     0.29678  \n",
       "1     0.43630  \n",
       "2     0.34139  \n",
       "3     0.34699  \n",
       "4     0.45811  "
      ]
     },
     "execution_count": 15,
     "metadata": {},
     "output_type": "execute_result"
    }
   ],
   "source": [
    "#Dropping non-numeric columns from the data set\n",
    "new_data=data.drop(['Country','Happiness Rank'],axis=1)\n",
    "new_data.head()"
   ]
  },
  {
   "cell_type": "code",
   "execution_count": 16,
   "metadata": {},
   "outputs": [],
   "source": [
    "#splitting the data\n",
    "from sklearn.model_selection import train_test_split"
   ]
  },
  {
   "cell_type": "code",
   "execution_count": 17,
   "metadata": {},
   "outputs": [],
   "source": [
    "X = new_data[['Economy (GDP per Capita)', 'Family', 'Health (Life Expectancy)', 'Freedom','Trust (Government Corruption)','Generosity']]\n",
    "y = new_data['Happiness Score']\n"
   ]
  },
  {
   "cell_type": "code",
   "execution_count": 18,
   "metadata": {},
   "outputs": [],
   "source": [
    "#Data Scaling\n",
    "scaler=StandardScaler()\n",
    "X_scaled=scaler.fit_transform(X)"
   ]
  },
  {
   "cell_type": "code",
   "execution_count": 19,
   "metadata": {},
   "outputs": [
    {
     "data": {
      "text/plain": [
       "array([[ 1.36962124e+00,  1.32028142e+00,  1.26340809e+00,\n",
       "         1.57743784e+00,  2.30965159e+00,  4.71039706e-01],\n",
       "       [ 1.13522625e+00,  1.51445776e+00,  1.28943383e+00,\n",
       "         1.33245589e+00, -1.64795307e-02,  1.57585637e+00],\n",
       "       [ 1.19286069e+00,  1.36105403e+00,  9.92228817e-01,\n",
       "         1.46965910e+00,  2.84277380e+00,  8.24292797e-01],\n",
       "       [ 1.52512972e+00,  1.25192192e+00,  1.03514490e+00,\n",
       "         1.60513145e+00,  1.85208080e+00,  8.68637502e-01],\n",
       "       [ 1.19487640e+00,  1.22120434e+00,  1.11805373e+00,\n",
       "         1.36041579e+00,  1.55572536e+00,  1.74856316e+00],\n",
       "       [ 1.10518965e+00,  1.20518259e+00,  1.05097959e+00,\n",
       "         1.41846586e+00,  2.25900540e+00, -2.99762791e-02],\n",
       "       [ 1.20271529e+00,  1.06489092e+00,  1.06612405e+00,\n",
       "         1.24584679e+00,  1.46019962e+00,  1.89102052e+00],\n",
       "       [ 1.20836426e+00,  1.09767107e+00,  1.13932906e+00,\n",
       "         1.53902627e+00,  2.46560175e+00,  9.92406743e-01],\n",
       "       [ 1.00547410e+00,  1.21037585e+00,  1.12917861e+00,\n",
       "         1.40308792e+00,  2.38854599e+00,  1.88238914e+00],\n",
       "       [ 1.21301782e+00,  1.17192363e+00,  1.22333414e+00,\n",
       "         1.48204134e+00,  1.77970522e+00,  1.57047165e+00],\n",
       "       [ 9.51696888e-01,  8.57749849e-01,  1.15150959e+00,\n",
       "        -1.02685625e-01, -5.48013822e-01,  7.47718993e-01],\n",
       "       [ 2.72849769e-01,  9.09129968e-01,  9.33884062e-01,\n",
       "         1.36567491e+00, -3.14172164e-01,  1.39958967e-01],\n",
       "       [ 1.22210096e+00,  1.12702587e+00,  1.05629842e+00,\n",
       "         1.30289829e+00,  3.62196865e-01,  7.41067287e-01],\n",
       "       [ 4.34007214e-01, -2.81894354e-01,  7.47806114e-01,\n",
       "         3.54125818e-01,  5.82499442e-01, -7.64593837e-01],\n",
       "       [ 1.36464418e+00,  9.43125560e-01,  9.40055533e-01,\n",
       "         7.81712513e-01,  1.29358101e-01,  1.29672228e+00],\n",
       "       [ 3.36207838e-01,  8.90677323e-01,  2.71060039e-01,\n",
       "         4.11909603e-01,  2.65668232e-01, -7.25000350e-01],\n",
       "       [ 1.78620179e+00,  8.41912249e-01,  1.17209469e+00,\n",
       "         1.24631278e+00,  1.96030987e+00,  3.40856320e-01],\n",
       "       [ 1.21894053e+00,  1.39383418e+00,  1.07623390e+00,\n",
       "         1.25922759e+00,  1.20019912e+00,  1.75568999e+00],\n",
       "       [ 1.14891319e+00,  1.08511148e+00,  1.08167453e+00,\n",
       "         1.03774528e+00,  6.85129019e-01, -1.17161138e-01],\n",
       "       [ 1.44616854e+00,  4.96136935e-01,  7.26733792e-01,\n",
       "         1.41766700e+00,  2.02591591e+00,  2.13682040e-01],\n",
       "       [ 1.04576346e+00,  1.08444851e+00,  1.13348240e+00,\n",
       "         1.11596641e+00,  1.48134399e+00,  2.23168289e+00],\n",
       "       [ 1.27903862e+00,  3.34335597e-01,  5.37976126e-01,\n",
       "         1.35888465e+00,  1.51953757e+00, -1.73225515e-01],\n",
       "       [ 4.92985464e-01,  9.75721550e-01,  3.66474217e-01,\n",
       "         3.09598125e-03, -2.73554921e-01, -1.41654019e+00],\n",
       "       [ 1.68155895e+00,  1.06642479e-01,  1.60373219e+00,\n",
       "         7.58279458e-01,  2.91406291e+00,  5.84039518e-01],\n",
       "       [ 5.40989280e-01,  7.64087021e-01,  6.75413145e-01,\n",
       "         7.55483468e-01, -4.23905580e-01,  5.57832138e-02],\n",
       "       [ 1.19893271e+00,  1.13560764e+00,  1.06214508e+00,\n",
       "         1.23925624e+00,  6.26877541e-01,  3.55109976e-01],\n",
       "       [ 6.49539121e-01,  4.91422487e-01,  9.26981760e-01,\n",
       "         8.45791067e-02, -1.23120687e-01,  7.62843705e-01],\n",
       "       [ 2.10102620e+00,  3.22475814e-01,  6.78336473e-01,\n",
       "         1.40987818e+00,  3.16461949e+00,  7.00285996e-01],\n",
       "       [ 1.07415763e+00,  9.92001129e-01,  1.28111047e+00,\n",
       "         8.08806984e-01,  5.26838776e-01, -9.02537546e-01],\n",
       "       [ 5.16054172e-01,  9.47250702e-01,  6.37328677e-01,\n",
       "         1.40632041e-01, -4.89595195e-01, -9.72301270e-01],\n",
       "       [ 8.28290500e-01,  7.93294502e-01,  8.71194917e-01,\n",
       "         2.33165983e-01, -9.77002111e-01, -1.03287931e+00],\n",
       "       [ 5.36335722e-01,  8.02391913e-01,  7.36275210e-01,\n",
       "         1.16502937e+00,  8.53782510e-01, -3.87660333e-02],\n",
       "       [ 1.80350970e-01,  9.17601243e-01,  2.45683928e-01,\n",
       "         7.05954509e-01, -7.70740062e-01, -4.21951801e-01],\n",
       "       [ 3.00522264e-01,  1.00916467e+00,  4.39476213e-01,\n",
       "         8.52277965e-01, -9.32289714e-01,  2.68447400e+00],\n",
       "       [ 1.36688386e+00,  3.42107071e-01,  3.65377969e-01,\n",
       "        -7.86438224e-01,  1.51953757e+00, -7.93734644e-01],\n",
       "       [ 9.55529230e-01,  1.18871885e+00,  1.32102201e+00,\n",
       "         2.05672085e-01, -6.63931757e-01, -4.35730334e-01],\n",
       "       [ 8.99014629e-01,  1.14540486e+00,  1.04326525e+00,\n",
       "         1.16522909e+00, -6.31977177e-02,  2.21901297e+00],\n",
       "       [ 1.10700628e+00,  3.13525728e-01,  9.94908535e-01,\n",
       "        -2.07801520e-01, -5.19264169e-01,  1.30377343e-01],\n",
       "       [ 1.76208790e+00,  6.44163244e-01,  3.84338999e-01,\n",
       "         8.41293720e-01,  9.41619387e-01, -5.94025095e-01],\n",
       "       [ 3.71296164e-01, -7.01493303e-02, -8.95649522e-02,\n",
       "         1.11809669e+00, -5.92697127e-02, -5.33605434e-01],\n",
       "       [ 9.10038833e-01,  7.08986907e-01, -6.26459735e-02,\n",
       "         8.66923625e-01, -1.10336687e+00,  6.42558691e-01],\n",
       "       [-2.03057423e-01,  1.25316114e-01,  1.91277545e-01,\n",
       "        -1.67193100e-01, -2.14467697e-01, -1.03240418e+00],\n",
       "       [-2.50364449e-01,  1.93417793e-01,  5.68044570e-02,\n",
       "         9.90013738e-01, -4.07023516e-01,  2.97699419e-01],\n",
       "       [-5.31792730e-01,  1.28683830e+00, -1.32115615e-01,\n",
       "         1.52844145e+00,  1.37762794e+00, -7.06783838e-02],\n",
       "       [ 8.03230965e-01,  1.02739632e+00,  6.44596395e-01,\n",
       "        -7.39638684e-01, -9.11897518e-01, -5.41365758e-01],\n",
       "       [ 1.05663836e+00,  9.79994019e-01,  1.46511772e+00,\n",
       "         4.49588892e-01,  3.10714927e-01, -1.03137475e+00],\n",
       "       [ 9.91612969e-01, -1.22671230e-01,  1.36064935e+00,\n",
       "        -6.42644474e-01, -5.41996453e-01, -4.09598633e-01],\n",
       "       [ 4.45019133e-02,  2.94065575e-02,  6.51620503e-01,\n",
       "         3.80288292e-01,  3.13222164e-01, -9.65174443e-01],\n",
       "       [ 1.18858041e+00,  8.29426328e-01,  4.74637353e-01,\n",
       "         1.75115913e-01,  1.35874009e+00, -5.04227067e-01],\n",
       "       [ 1.00786309e+00,  7.61398313e-01,  1.31631221e+00,\n",
       "        -1.10677875e+00, -9.56192043e-01, -7.17870014e-02],\n",
       "       [-4.10128315e-01, -4.65402574e-02, -3.69717220e-01,\n",
       "         9.68777532e-01, -4.63185630e-01, -2.52887611e-01],\n",
       "       [-6.26257471e-01,  8.92579514e-02, -4.87195637e-02,\n",
       "        -6.68607234e-01, -1.06366894e+00, -2.20025017e-01],\n",
       "       [-2.14728646e-01,  1.15549672e+00,  1.24731231e-01,\n",
       "         7.34779831e-01, -5.09820242e-01,  8.32290681e-01],\n",
       "       [ 6.87837656e-01,  4.83835171e-01,  5.44901556e-02,\n",
       "         5.84994674e-01, -4.92102432e-01, -9.42526968e-01],\n",
       "       [ 8.43221702e-01,  1.04161333e+00,  9.87072391e-01,\n",
       "         1.19784897e+00, -8.82144970e-01,  1.26576369e-01],\n",
       "       [ 7.49279554e-01,  9.81209462e-01,  4.10161730e-01,\n",
       "        -1.43257811e+00, -1.11247650e+00, -1.66993851e+00],\n",
       "       [-6.29318367e-01,  5.55399023e-01,  4.58315438e-01,\n",
       "         8.39696012e-01,  4.15768167e-01,  3.23514373e-01],\n",
       "       [ 1.34512179e-01, -6.06099389e-02,  4.05654932e-01,\n",
       "        -9.09025262e-02, -6.98113758e-01, -6.92692065e-01],\n",
       "       [ 4.62326728e-01,  8.90750987e-01,  4.29650583e-01,\n",
       "        -3.27762788e-01,  3.96796738e-01, -1.00437199e+00],\n",
       "       [ 6.95328142e-01,  1.06234954e+00,  6.04035219e-01,\n",
       "         6.83054023e-01, -8.46625776e-01, -5.51976812e-01],\n",
       "       [ 6.93611054e-01,  2.91647742e-01,  3.80360025e-01,\n",
       "         6.76530047e-01, -3.21025279e-01,  7.40037857e-01],\n",
       "       [ 5.88296306e-01, -7.17502006e-01,  6.40658023e-01,\n",
       "        -1.13027837e+00, -9.95555667e-01, -1.44797742e+00],\n",
       "       [ 7.10010491e-01,  4.69875985e-01,  2.98588044e-01,\n",
       "        -7.94522831e-02, -2.77399351e-01, -4.30345620e-01],\n",
       "       [ 7.25414515e-01,  9.02831760e-01,  1.58349503e-01,\n",
       "        -4.11575905e-01, -9.47500287e-01, -1.86331310e+00],\n",
       "       [-8.89830364e-02,  5.89210456e-01,  2.32041730e-01,\n",
       "         5.04643258e-01, -1.00650394e+00, -1.97931851e-01],\n",
       "       [ 9.00657061e-01,  2.91095267e-01,  1.19085271e+00,\n",
       "         4.10445037e-01, -5.19696323e-03,  1.93172614e-01],\n",
       "       [ 9.00831258e-01, -3.60456214e-01,  1.19085271e+00,\n",
       "        -1.45757179e-01, -6.84992549e-01,  5.47059201e-01],\n",
       "       [ 2.31813848e-01,  3.19234630e-01, -5.11556704e-02,\n",
       "        -9.50802470e-01,  2.54134940e-01, -1.25967080e+00],\n",
       "       [-1.11130987e-01, -6.59529026e-01,  4.30635819e-03,\n",
       "        -1.20577009e+00, -8.02414826e-01,  3.62711925e-01],\n",
       "       [ 2.79543925e-01,  8.67878546e-01, -3.71097680e-01,\n",
       "         3.16113674e-01,  1.37913228e+00, -5.34555678e-01],\n",
       "       [ 4.01830473e-01, -2.14947510e-02,  3.21731058e-01,\n",
       "         8.79039580e-01, -5.70077510e-01,  1.10976184e+00],\n",
       "       [ 1.34356630e+00,  2.47265631e-01,  1.55513187e+00,\n",
       "         1.11483470e+00,  1.90398061e+00,  1.24707205e+00],\n",
       "       [ 7.60502841e-01,  8.72408836e-01,  5.82029055e-01,\n",
       "         1.34906919e-01,  7.03544518e-02, -1.19172838e+00],\n",
       "       [-4.44631678e-02,  3.53709033e-01,  3.11441334e-02,\n",
       "         2.49609064e-01, -1.19864188e+00,  2.20182940e+00],\n",
       "       [-5.32489519e-01, -2.90181470e-01,  4.73013282e-01,\n",
       "         1.10391703e+00, -3.26039753e-01, -5.43978928e-01],\n",
       "       [ 5.34643519e-01, -1.64732948e-01,  4.11948208e-01,\n",
       "        -1.33451876e+00,  1.17323362e-01, -9.08793317e-01],\n",
       "       [-9.25379226e-01,  5.89689267e-01,  8.37234357e-02,\n",
       "         4.09749832e-02, -8.44954284e-01,  4.98913521e-01],\n",
       "       [-4.77268956e-01, -3.19425782e-01, -1.90905242e+00,\n",
       "        -5.67685324e-01, -8.61836348e-01,  2.77427554e-01],\n",
       "       [-1.88424845e-01,  4.15843988e-01, -2.28138820e-01,\n",
       "         6.88646002e-01,  9.21674157e-02,  1.92174507e+00],\n",
       "       [ 4.42343802e-01, -1.95634683e-01,  4.13757814e-02,\n",
       "        -3.88209420e-01,  1.43983652e-01, -1.26149210e+00],\n",
       "       [-6.23893364e-01, -2.12494897e+00, -4.69353982e-01,\n",
       "        -2.04769582e+00, -3.24117538e-01,  7.87233293e-01],\n",
       "       [ 1.38966654e-01,  2.31575358e-01,  2.68502127e-01,\n",
       "        -1.46489462e-01, -4.11049377e-03, -1.00381769e+00],\n",
       "       [ 3.19136497e-01, -3.14821828e-01,  3.85516451e-01,\n",
       "        -1.63775049e+00, -3.85977005e-03, -6.00993549e-01],\n",
       "       [ 1.09452644e-01, -1.63149188e-01,  7.56494895e-01,\n",
       "         5.88190090e-01, -9.66220991e-01, -1.23092593e+00],\n",
       "       [-9.35084508e-01, -2.75964462e-01, -1.34399748e+00,\n",
       "         3.97130801e-01, -1.56634092e-01, -3.27719302e-01],\n",
       "       [ 4.91019522e-01, -3.87343302e-01,  5.62905618e-01,\n",
       "        -5.18822077e-01, -1.14440198e+00, -7.90408791e-01],\n",
       "       [ 1.85128955e-01,  6.84849137e-02,  4.79509566e-01,\n",
       "        -1.51479351e+00, -9.79927222e-01, -3.56226612e-01],\n",
       "       [ 7.80834161e-01,  5.46227948e-01,  9.94461915e-01,\n",
       "         5.73011861e-01, -1.10854849e+00, -7.92705213e-01],\n",
       "       [ 6.64395668e-01,  3.85163243e-01,  3.82105901e-01,\n",
       "        -8.78106741e-01, -6.69447679e-01, -4.35809521e-01],\n",
       "       [-3.50428391e-01,  1.62479226e-01, -1.99433363e-01,\n",
       "         1.31035426e+00, -1.72429686e-01,  9.98903583e-02],\n",
       "       [-1.63662705e+00, -1.45580502e-01, -7.77643282e-01,\n",
       "         2.47678500e-01,  2.13832371e+00,  2.10545885e+00],\n",
       "       [-2.77091302e-01, -1.28946034e+00, -8.41243140e-02,\n",
       "        -7.79211459e-02, -4.84413571e-01, -1.31114233e+00],\n",
       "       [ 1.80102117e-01,  4.15241628e-02,  4.27092671e-01,\n",
       "        -6.26068250e-01, -7.53440126e-01, -1.08529757e-01],\n",
       "       [-1.89889362e+00,  1.29699078e-01, -2.18823025e+00,\n",
       "        -5.87456965e-01,  1.05372198e-01, -1.15656585e-01],\n",
       "       [ 8.09589326e-02, -6.87668389e-01,  7.42974503e-01,\n",
       "        -4.74552242e-01, -6.62678138e-01, -7.48914817e-01],\n",
       "       [-3.46085742e-02, -2.64767647e-01,  6.51864113e-01,\n",
       "        -2.23788968e+00, -1.17967045e+00,  8.53991420e-02],\n",
       "       [-1.17132102e+00,  1.84099391e-01, -2.24990435e+00,\n",
       "        -7.38573545e-01, -1.53625407e-01, -5.81355179e-01],\n",
       "       [ 1.22517446e-01,  6.66556873e-01,  1.54248724e-01,\n",
       "         9.85952896e-01, -9.04139365e-03, -1.61980965e-01],\n",
       "       [-6.35763670e-01, -9.31898907e-01, -3.29562061e-01,\n",
       "         1.11370299e+00,  8.27957966e-01,  1.46198550e+00],\n",
       "       [-4.46622505e-02,  1.14013793e+00, -1.11977134e-01,\n",
       "         5.08940891e-02, -9.75832067e-01,  7.52311837e-01],\n",
       "       [-3.33655674e-01,  3.01260796e-01, -2.25177203e+00,\n",
       "        -8.12400985e-01, -9.42903685e-01, -4.33196351e-01],\n",
       "       [ 7.66276239e-01, -2.27309883e-01,  1.02263955e+00,\n",
       "        -2.34080873e+00, -1.08188820e+00, -1.87907131e+00],\n",
       "       [ 4.46698736e-01, -7.03616483e-01,  8.49432364e-01,\n",
       "        -5.95512078e-01, -8.15703183e-01, -1.48519179e-01],\n",
       "       [ 6.83856002e-01,  7.77530565e-01,  5.22912867e-01,\n",
       "        -7.15606488e-01, -9.68143207e-01, -8.65478042e-01],\n",
       "       [-6.24167102e-01, -1.38361504e-01,  2.63264497e-01,\n",
       "        -1.80640478e-01, -6.28245414e-01, -5.56328587e-02],\n",
       "       [-1.13394324e+00, -4.98758974e-01, -2.29275670e-01,\n",
       "         2.89884629e-01,  6.09940995e-02, -5.98297684e-02],\n",
       "       [ 8.70807256e-02, -1.42448509e+00,  4.37161912e-01,\n",
       "        -1.10464847e+00, -6.67274740e-01, -1.36981988e+00],\n",
       "       [-6.15830514e-01, -2.41121743e-01,  1.21361284e-01,\n",
       "        -1.22241289e+00, -1.20112003e-01, -9.88138665e-01],\n",
       "       [-1.11637419e+00, -2.06251936e+00, -1.16199719e-01,\n",
       "        -1.35904645e-01, -1.48193060e-01, -1.98565347e-01],\n",
       "       [ 4.04791828e-01, -1.64481188e+00,  2.75242022e-01,\n",
       "        -8.54007973e-01, -7.08644154e-01,  1.13684378e+00],\n",
       "       [-1.17128353e-01,  7.79850958e-01,  1.77188728e-01,\n",
       "        -1.18087247e+00, -9.51177568e-01, -6.69490282e-01],\n",
       "       [ 3.46784107e-01, -6.34078371e-01, -1.13235789e-01,\n",
       "        -2.85334025e+00, -4.63156537e-02, -4.59882361e-01],\n",
       "       [ 1.85029414e-01,  7.13185713e-01, -1.43478306e+00,\n",
       "        -6.42711045e-01, -4.56165365e-01, -9.30965670e-01],\n",
       "       [-7.47946770e-01, -1.14732709e+00, -9.29534533e-01,\n",
       "        -3.45833072e-02, -8.34674612e-01, -5.08816403e-02],\n",
       "       [-1.43124836e+00,  1.53639635e-01, -1.19982057e+00,\n",
       "        -1.13174294e+00, -5.23442898e-01, -3.75548234e-01],\n",
       "       [-1.92845741e+00, -7.41663554e-01, -1.17034368e+00,\n",
       "        -9.53997887e-01, -6.77805136e-01,  5.00817516e-02],\n",
       "       [-5.00561631e-01, -2.24417295e+00, -4.66796070e-01,\n",
       "        -2.04739246e-01, -4.88926598e-01,  2.17403828e-01],\n",
       "       [-8.08940732e-01,  8.46908296e-02, -1.06165272e+00,\n",
       "        -2.18223617e+00,  2.65613749e-02, -3.69609211e-01],\n",
       "       [-1.44187440e+00, -9.13519925e-01, -9.81707817e-01,\n",
       "        -1.22733916e+00,  2.36751429e-01,  1.77833746e+00],\n",
       "       [-2.10564101e+00,  3.73990205e-02, -2.16082405e+00,\n",
       "        -1.34849870e+00, -5.61385754e-01,  8.74580034e-02],\n",
       "       [-1.20984352e+00, -4.66126152e-01, -2.49779568e-01,\n",
       "        -3.04862302e-01, -7.04966873e-01,  6.78351204e-01],\n",
       "       [-1.63100297e+00, -1.42533221e+00, -7.70253758e-01,\n",
       "         3.91775613e-02,  5.89883097e-02,  4.71518336e-02],\n",
       "       [-1.28382763e+00, -1.30148051e-01, -2.55896508e+00,\n",
       "        -1.34573221e-01, -4.64355674e-01, -1.77501612e-01],\n",
       "       [-9.75672493e-01, -4.49220435e-01, -1.10241690e+00,\n",
       "        -1.24018739e+00,  2.60653757e-01, -1.44876578e-01],\n",
       "       [-1.19804787e+00,  2.84121036e-02, -8.76630416e-01,\n",
       "        -4.30378471e-02, -7.10649944e-01,  1.09376607e+00],\n",
       "       [-1.01006403e+00, -1.46949333e+00, -1.08548596e+00,\n",
       "         2.13860340e-01,  1.15022152e+00, -4.46341389e-01],\n",
       "       [-1.93924504e-01, -7.87960909e-01,  4.04558684e-01,\n",
       "        -1.53210202e+00, -8.72701043e-01, -1.25705763e+00],\n",
       "       [ 3.66841689e-01,  4.18385370e-01, -2.36505099e+00,\n",
       "         4.41600350e-01, -1.56132644e-01, -1.05069637e+00],\n",
       "       [-1.43104928e+00, -1.03863696e+00, -6.00091707e-01,\n",
       "         7.69234209e-02,  3.92116562e-01,  4.42326158e+00],\n",
       "       [-2.59397827e-01, -2.22988227e+00,  4.01960171e-01,\n",
       "        -1.52081441e-01,  2.00485512e+00, -1.43982117e+00],\n",
       "       [-2.06572493e+00, -2.13515133e+00, -1.64290777e+00,\n",
       "         1.28153737e-02, -6.15542078e-01,  7.44234766e-01],\n",
       "       [-2.71180877e-02,  1.03143475e-01,  3.15884402e-01,\n",
       "         7.23263016e-01, -4.31510866e-01,  1.35397447e+00],\n",
       "       [-1.05423550e+00, -3.80750441e-01, -1.60880228e+00,\n",
       "         4.29218110e-01, -7.15079396e-01, -2.46394279e-01],\n",
       "       [ 4.13153301e-01,  4.23910114e-01,  5.53120590e-01,\n",
       "        -8.17127539e-01, -1.12576485e+00, -9.35083393e-01],\n",
       "       [ 8.87480432e-02, -8.98860938e-01, -5.33481664e-02,\n",
       "        -1.70245767e+00, -6.70116275e-01, -9.84971186e-01],\n",
       "       [-7.45682205e-01, -1.14220750e+00, -9.32295454e-01,\n",
       "        -4.85336773e-01, -5.42247177e-01, -1.15601505e+00],\n",
       "       [-2.19879911e-01, -4.81190288e-01, -1.88160562e+00,\n",
       "        -2.16206511e+00, -6.03423765e-01, -9.01587302e-01],\n",
       "       [-1.45678072e+00,  1.62847542e-01, -1.72325869e+00,\n",
       "        -2.66583873e-01, -1.66328742e-01, -3.90514572e-01],\n",
       "       [-4.16772701e-01, -1.20861492e+00, -1.29823928e+00,\n",
       "        -9.28996616e-02, -2.21989409e-01, -8.98103076e-01],\n",
       "       [-1.51073213e+00, -7.30429908e-01, -1.08451152e+00,\n",
       "        -1.32772850e+00,  4.64492143e-01, -4.97971296e-01],\n",
       "       [-1.58051062e+00,  5.22803033e-01, -1.18414828e+00,\n",
       "         1.90760140e-01, -5.91305452e-01,  4.22577278e-01],\n",
       "       [-1.19737596e+00, -5.47168786e-02, -7.91163674e-01,\n",
       "        -4.05384785e-01, -3.03307469e-01, -2.28577210e-01],\n",
       "       [ 5.32802004e-01, -3.15889946e-01, -7.97984772e-01,\n",
       "        -7.28787582e-01, -2.71716280e-01, -1.33885777e+00],\n",
       "       [-1.93293677e+00, -8.04387815e-01, -1.35280807e+00,\n",
       "         3.21572511e-01,  1.08380883e-01, -3.43873444e-01],\n",
       "       [-9.59969845e-01, -1.33951452e+00, -7.76280295e-02,\n",
       "         1.55673420e+00, -5.92976943e-01,  1.31683578e+00],\n",
       "       [-1.39591119e+00,  4.28501013e-02, -1.00736814e+00,\n",
       "        -6.64612963e-01, -7.18338804e-01,  8.43139297e-01],\n",
       "       [-1.58742874e+00, -1.18979396e+00, -6.62009418e-01,\n",
       "        -1.57623871e+00, -5.19682042e-01, -1.89775593e-01],\n",
       "       [-1.91029111e+00, -3.65018347e+00, -2.28697377e+00,\n",
       "         4.00592503e-01, -5.05892237e-01,  8.35021630e-03],\n",
       "       [-1.25473667e+00, -8.48696262e-01, -1.94953240e+00,\n",
       "        -1.28885093e+00, -7.58287451e-01, -4.23139605e-01],\n",
       "       [-1.67221309e+00, -1.93843361e+00, -1.58415700e+00,\n",
       "        -3.41942449e-01, -1.84130126e-01,  3.90189805e-01],\n",
       "       [-9.47626718e-01, -8.09912559e-01, -1.94242709e+00,\n",
       "         2.66584715e-01,  2.99181636e-01, -2.82265978e-01],\n",
       "       [-1.46330068e+00, -5.12570834e-01, -1.45764186e+00,\n",
       "        -2.24244602e-01, -1.26212947e-01, -1.56992186e-01],\n",
       "       [-1.30975815e+00, -2.53473765e+00, -1.32731015e+00,\n",
       "        -1.29464262e+00, -3.86380596e-01,  1.01204511e+00],\n",
       "       [-1.55298744e+00, -8.00520494e-01, -8.18610476e-01,\n",
       "         1.08774023e+00,  3.41392244e+00, -8.72284614e-02],\n",
       "       [-1.39230281e+00, -2.34685952e+00, -1.26336235e+00,\n",
       "         3.72033466e-01, -5.29209543e-01, -4.33117164e-01],\n",
       "       [-4.55245432e-01, -1.90108634e+00,  3.72199067e-01,\n",
       "        -1.80923785e+00,  3.81419017e-01,  1.85689094e+00],\n",
       "       [-2.06756644e+00, -2.11846660e+00, -1.64964766e+00,\n",
       "        -2.06447176e+00, -3.57714517e-01, -3.16949873e-01],\n",
       "       [-1.58633379e+00, -3.13472485e+00, -1.40412871e+00,\n",
       "        -4.26620992e-01, -3.01803127e-01, -5.58153396e-01]])"
      ]
     },
     "execution_count": 19,
     "metadata": {},
     "output_type": "execute_result"
    }
   ],
   "source": [
    "X_scaled"
   ]
  },
  {
   "cell_type": "code",
   "execution_count": 20,
   "metadata": {},
   "outputs": [
    {
     "data": {
      "text/plain": [
       "16     6.946\n",
       "130    4.292\n",
       "134    4.194\n",
       "22     6.810\n",
       "93     4.971\n",
       "Name: Happiness Score, dtype: float64"
      ]
     },
     "execution_count": 20,
     "metadata": {},
     "output_type": "execute_result"
    }
   ],
   "source": [
    "X_train, X_test, y_train, y_test = train_test_split(X_scaled, y, test_size = 0.2, random_state = 0)\n",
    "y_train.head()"
   ]
  },
  {
   "cell_type": "code",
   "execution_count": 21,
   "metadata": {},
   "outputs": [
    {
     "data": {
      "text/plain": [
       "LinearRegression()"
      ]
     },
     "execution_count": 21,
     "metadata": {},
     "output_type": "execute_result"
    }
   ],
   "source": [
    "regression=LinearRegression()\n",
    "\n",
    "regression.fit(X_train,y_train)"
   ]
  },
  {
   "cell_type": "code",
   "execution_count": 22,
   "metadata": {},
   "outputs": [
    {
     "data": {
      "text/html": [
       "<div>\n",
       "<style scoped>\n",
       "    .dataframe tbody tr th:only-of-type {\n",
       "        vertical-align: middle;\n",
       "    }\n",
       "\n",
       "    .dataframe tbody tr th {\n",
       "        vertical-align: top;\n",
       "    }\n",
       "\n",
       "    .dataframe thead th {\n",
       "        text-align: right;\n",
       "    }\n",
       "</style>\n",
       "<table border=\"1\" class=\"dataframe\">\n",
       "  <thead>\n",
       "    <tr style=\"text-align: right;\">\n",
       "      <th></th>\n",
       "      <th>Happiness Score</th>\n",
       "      <th>Economy (GDP per Capita)</th>\n",
       "      <th>Family</th>\n",
       "      <th>Health (Life Expectancy)</th>\n",
       "      <th>Freedom</th>\n",
       "      <th>Trust (Government Corruption)</th>\n",
       "      <th>Generosity</th>\n",
       "    </tr>\n",
       "  </thead>\n",
       "  <tbody>\n",
       "    <tr>\n",
       "      <th>156</th>\n",
       "      <td>2.905</td>\n",
       "      <td>0.01530</td>\n",
       "      <td>0.41587</td>\n",
       "      <td>0.22396</td>\n",
       "      <td>0.11850</td>\n",
       "      <td>0.10062</td>\n",
       "      <td>0.19727</td>\n",
       "    </tr>\n",
       "    <tr>\n",
       "      <th>157</th>\n",
       "      <td>2.839</td>\n",
       "      <td>0.20868</td>\n",
       "      <td>0.13995</td>\n",
       "      <td>0.28443</td>\n",
       "      <td>0.36453</td>\n",
       "      <td>0.10731</td>\n",
       "      <td>0.16681</td>\n",
       "    </tr>\n",
       "  </tbody>\n",
       "</table>\n",
       "</div>"
      ],
      "text/plain": [
       "     Happiness Score  Economy (GDP per Capita)   Family  \\\n",
       "156            2.905                   0.01530  0.41587   \n",
       "157            2.839                   0.20868  0.13995   \n",
       "\n",
       "     Health (Life Expectancy)  Freedom  Trust (Government Corruption)  \\\n",
       "156                   0.22396  0.11850                        0.10062   \n",
       "157                   0.28443  0.36453                        0.10731   \n",
       "\n",
       "     Generosity  \n",
       "156     0.19727  \n",
       "157     0.16681  "
      ]
     },
     "execution_count": 22,
     "metadata": {},
     "output_type": "execute_result"
    }
   ],
   "source": [
    "new_data.tail(2)"
   ]
  },
  {
   "cell_type": "code",
   "execution_count": 23,
   "metadata": {},
   "outputs": [
    {
     "name": "stdout",
     "output_type": "stream",
     "text": [
      "Happiness Score: [2.90466119]\n"
     ]
    }
   ],
   "source": [
    "print('Happiness Score:',regression.predict(scaler.transform([[0.01530,0.41587,0.22396,0.11850,0.10062,0.19727]])))"
   ]
  },
  {
   "cell_type": "code",
   "execution_count": 24,
   "metadata": {},
   "outputs": [
    {
     "data": {
      "text/plain": [
       "0.7934954655229758"
      ]
     },
     "execution_count": 24,
     "metadata": {},
     "output_type": "execute_result"
    }
   ],
   "source": [
    "regression.score(X_train,y_train)"
   ]
  },
  {
   "cell_type": "markdown",
   "metadata": {},
   "source": [
    "Let's check how well model fits the test data."
   ]
  },
  {
   "cell_type": "code",
   "execution_count": 25,
   "metadata": {},
   "outputs": [
    {
     "data": {
      "text/plain": [
       "0.674959293275678"
      ]
     },
     "execution_count": 25,
     "metadata": {},
     "output_type": "execute_result"
    }
   ],
   "source": [
    "regression.score(X_test,y_test)"
   ]
  },
  {
   "cell_type": "markdown",
   "metadata": {},
   "source": [
    "Let's plot and visualize"
   ]
  },
  {
   "cell_type": "code",
   "execution_count": 26,
   "metadata": {},
   "outputs": [],
   "source": [
    "y_pred=regression.predict(X_test)"
   ]
  },
  {
   "cell_type": "code",
   "execution_count": 27,
   "metadata": {},
   "outputs": [
    {
     "data": {
      "text/plain": [
       "array([7.06870825, 5.95019071, 4.38328038, 4.59321906, 5.84165172,\n",
       "       4.22179829, 4.09701657, 4.02190553, 4.66497009, 5.34035749,\n",
       "       6.18106733, 4.63785423, 6.02271005, 5.96651734, 3.67780437,\n",
       "       5.96832617, 4.62445984, 5.06508235, 5.04511211, 5.73442587,\n",
       "       6.60541326, 6.12531833, 6.28346624, 7.0008167 , 6.08903633,\n",
       "       6.020489  , 5.11423649, 6.75285581, 4.85660958, 4.11520713,\n",
       "       4.93790399, 6.54316592])"
      ]
     },
     "execution_count": 27,
     "metadata": {},
     "output_type": "execute_result"
    }
   ],
   "source": [
    "y_pred"
   ]
  },
  {
   "cell_type": "code",
   "execution_count": 28,
   "metadata": {},
   "outputs": [
    {
     "data": {
      "image/png": "[encoded data removed]",
      "text/plain": [
       "<Figure size 432x288 with 1 Axes>"
      ]
     },
     "metadata": {
      "needs_background": "light"
     },
     "output_type": "display_data"
    }
   ],
   "source": [
    "plt.scatter(y_test,y_pred)\n",
    "plt.xlabel('Actual chancee of Admission')\n",
    "plt.ylabel('Predicted chance of Admission')\n",
    "plt.title('Actual vs Predicted model')\n",
    "plt.show()"
   ]
  },
  {
   "cell_type": "markdown",
   "metadata": {},
   "source": [
    "### Model Evaluation"
   ]
  },
  {
   "cell_type": "code",
   "execution_count": 29,
   "metadata": {},
   "outputs": [],
   "source": [
    "from sklearn.metrics import mean_squared_error,mean_absolute_error"
   ]
  },
  {
   "cell_type": "code",
   "execution_count": 30,
   "metadata": {},
   "outputs": [],
   "source": [
    "y_pred=regression.predict(X_test)"
   ]
  },
  {
   "cell_type": "code",
   "execution_count": 31,
   "metadata": {},
   "outputs": [
    {
     "data": {
      "text/plain": [
       "0.44396181617856234"
      ]
     },
     "execution_count": 31,
     "metadata": {},
     "output_type": "execute_result"
    }
   ],
   "source": [
    "mean_absolute_error(y_test,y_pred)"
   ]
  },
  {
   "cell_type": "code",
   "execution_count": 32,
   "metadata": {},
   "outputs": [
    {
     "data": {
      "text/plain": [
       "0.3323637592572748"
      ]
     },
     "execution_count": 32,
     "metadata": {},
     "output_type": "execute_result"
    }
   ],
   "source": [
    "mean_squared_error(y_test,y_pred)"
   ]
  },
  {
   "cell_type": "code",
   "execution_count": 33,
   "metadata": {},
   "outputs": [
    {
     "data": {
      "text/plain": [
       "0.5765099819233617"
      ]
     },
     "execution_count": 33,
     "metadata": {},
     "output_type": "execute_result"
    }
   ],
   "source": [
    "np.sqrt(mean_squared_error(y_test,y_pred))"
   ]
  },
  {
   "cell_type": "code",
   "execution_count": null,
   "metadata": {},
   "outputs": [],
   "source": []
  }
 ],
 "metadata": {
  "kernelspec": {
   "display_name": "Python 3",
   "language": "python",
   "name": "python3"
  },
  "language_info": {
   "codemirror_mode": {
    "name": "ipython",
    "version": 3
   },
   "file_extension": ".py",
   "mimetype": "text/x-python",
   "name": "python",
   "nbconvert_exporter": "python",
   "pygments_lexer": "ipython3",
   "version": "3.8.3"
  }
 },
 "nbformat": 4,
 "nbformat_minor": 4
}

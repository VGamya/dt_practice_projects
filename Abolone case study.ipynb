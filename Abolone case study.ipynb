{
 "cells": [
  {
   "cell_type": "code",
   "execution_count": 1,
   "metadata": {},
   "outputs": [],
   "source": [
    "import pandas as pd\n",
    "import numpy as np"
   ]
  },
  {
   "cell_type": "code",
   "execution_count": 2,
   "metadata": {},
   "outputs": [],
   "source": [
    "df=pd.read_csv(\"abalone.csv\")"
   ]
  },
  {
   "cell_type": "code",
   "execution_count": 3,
   "metadata": {},
   "outputs": [
    {
     "data": {
      "text/html": [
       "<div>\n",
       "<style scoped>\n",
       "    .dataframe tbody tr th:only-of-type {\n",
       "        vertical-align: middle;\n",
       "    }\n",
       "\n",
       "    .dataframe tbody tr th {\n",
       "        vertical-align: top;\n",
       "    }\n",
       "\n",
       "    .dataframe thead th {\n",
       "        text-align: right;\n",
       "    }\n",
       "</style>\n",
       "<table border=\"1\" class=\"dataframe\">\n",
       "  <thead>\n",
       "    <tr style=\"text-align: right;\">\n",
       "      <th></th>\n",
       "      <th>Sex</th>\n",
       "      <th>Length</th>\n",
       "      <th>Diameter</th>\n",
       "      <th>Height</th>\n",
       "      <th>Whole weight</th>\n",
       "      <th>Shucked weight</th>\n",
       "      <th>Viscera weight</th>\n",
       "      <th>Shell weight</th>\n",
       "      <th>Rings</th>\n",
       "    </tr>\n",
       "  </thead>\n",
       "  <tbody>\n",
       "    <tr>\n",
       "      <th>0</th>\n",
       "      <td>M</td>\n",
       "      <td>0.455</td>\n",
       "      <td>0.365</td>\n",
       "      <td>0.095</td>\n",
       "      <td>0.5140</td>\n",
       "      <td>0.2245</td>\n",
       "      <td>0.1010</td>\n",
       "      <td>0.150</td>\n",
       "      <td>15</td>\n",
       "    </tr>\n",
       "    <tr>\n",
       "      <th>1</th>\n",
       "      <td>M</td>\n",
       "      <td>0.350</td>\n",
       "      <td>0.265</td>\n",
       "      <td>0.090</td>\n",
       "      <td>0.2255</td>\n",
       "      <td>0.0995</td>\n",
       "      <td>0.0485</td>\n",
       "      <td>0.070</td>\n",
       "      <td>7</td>\n",
       "    </tr>\n",
       "    <tr>\n",
       "      <th>2</th>\n",
       "      <td>F</td>\n",
       "      <td>0.530</td>\n",
       "      <td>0.420</td>\n",
       "      <td>0.135</td>\n",
       "      <td>0.6770</td>\n",
       "      <td>0.2565</td>\n",
       "      <td>0.1415</td>\n",
       "      <td>0.210</td>\n",
       "      <td>9</td>\n",
       "    </tr>\n",
       "    <tr>\n",
       "      <th>3</th>\n",
       "      <td>M</td>\n",
       "      <td>0.440</td>\n",
       "      <td>0.365</td>\n",
       "      <td>0.125</td>\n",
       "      <td>0.5160</td>\n",
       "      <td>0.2155</td>\n",
       "      <td>0.1140</td>\n",
       "      <td>0.155</td>\n",
       "      <td>10</td>\n",
       "    </tr>\n",
       "    <tr>\n",
       "      <th>4</th>\n",
       "      <td>I</td>\n",
       "      <td>0.330</td>\n",
       "      <td>0.255</td>\n",
       "      <td>0.080</td>\n",
       "      <td>0.2050</td>\n",
       "      <td>0.0895</td>\n",
       "      <td>0.0395</td>\n",
       "      <td>0.055</td>\n",
       "      <td>7</td>\n",
       "    </tr>\n",
       "  </tbody>\n",
       "</table>\n",
       "</div>"
      ],
      "text/plain": [
       "  Sex  Length  Diameter  Height  Whole weight  Shucked weight  Viscera weight  \\\n",
       "0   M   0.455     0.365   0.095        0.5140          0.2245          0.1010   \n",
       "1   M   0.350     0.265   0.090        0.2255          0.0995          0.0485   \n",
       "2   F   0.530     0.420   0.135        0.6770          0.2565          0.1415   \n",
       "3   M   0.440     0.365   0.125        0.5160          0.2155          0.1140   \n",
       "4   I   0.330     0.255   0.080        0.2050          0.0895          0.0395   \n",
       "\n",
       "   Shell weight  Rings  \n",
       "0         0.150     15  \n",
       "1         0.070      7  \n",
       "2         0.210      9  \n",
       "3         0.155     10  \n",
       "4         0.055      7  "
      ]
     },
     "execution_count": 3,
     "metadata": {},
     "output_type": "execute_result"
    }
   ],
   "source": [
    "df.head()"
   ]
  },
  {
   "cell_type": "markdown",
   "metadata": {},
   "source": [
    "## Checking null values in the dataframe"
   ]
  },
  {
   "cell_type": "code",
   "execution_count": 7,
   "metadata": {},
   "outputs": [
    {
     "data": {
      "text/plain": [
       "Sex               0\n",
       "Length            0\n",
       "Diameter          0\n",
       "Height            0\n",
       "Whole weight      0\n",
       "Shucked weight    0\n",
       "Viscera weight    0\n",
       "Shell weight      0\n",
       "Rings             0\n",
       "dtype: int64"
      ]
     },
     "execution_count": 7,
     "metadata": {},
     "output_type": "execute_result"
    }
   ],
   "source": [
    "df.isnull().sum()"
   ]
  },
  {
   "cell_type": "code",
   "execution_count": 5,
   "metadata": {},
   "outputs": [
    {
     "data": {
      "text/plain": [
       "Index(['Sex', 'Length', 'Diameter', 'Height', 'Whole weight', 'Shucked weight',\n",
       "       'Viscera weight', 'Shell weight', 'Rings'],\n",
       "      dtype='object')"
      ]
     },
     "execution_count": 5,
     "metadata": {},
     "output_type": "execute_result"
    }
   ],
   "source": [
    "df.columns"
   ]
  },
  {
   "cell_type": "markdown",
   "metadata": {},
   "source": [
    "Since they are not null values then we can proceed\n"
   ]
  },
  {
   "cell_type": "code",
   "execution_count": 9,
   "metadata": {},
   "outputs": [],
   "source": [
    "df['age']=df.Rings+1.5"
   ]
  },
  {
   "cell_type": "code",
   "execution_count": 10,
   "metadata": {},
   "outputs": [],
   "source": [
    "df.drop('Rings',axis=1,inplace=True)"
   ]
  },
  {
   "cell_type": "code",
   "execution_count": 11,
   "metadata": {},
   "outputs": [
    {
     "data": {
      "text/html": [
       "<div>\n",
       "<style scoped>\n",
       "    .dataframe tbody tr th:only-of-type {\n",
       "        vertical-align: middle;\n",
       "    }\n",
       "\n",
       "    .dataframe tbody tr th {\n",
       "        vertical-align: top;\n",
       "    }\n",
       "\n",
       "    .dataframe thead th {\n",
       "        text-align: right;\n",
       "    }\n",
       "</style>\n",
       "<table border=\"1\" class=\"dataframe\">\n",
       "  <thead>\n",
       "    <tr style=\"text-align: right;\">\n",
       "      <th></th>\n",
       "      <th>Sex</th>\n",
       "      <th>Length</th>\n",
       "      <th>Diameter</th>\n",
       "      <th>Height</th>\n",
       "      <th>Whole weight</th>\n",
       "      <th>Shucked weight</th>\n",
       "      <th>Viscera weight</th>\n",
       "      <th>Shell weight</th>\n",
       "      <th>age</th>\n",
       "    </tr>\n",
       "  </thead>\n",
       "  <tbody>\n",
       "    <tr>\n",
       "      <th>0</th>\n",
       "      <td>M</td>\n",
       "      <td>0.455</td>\n",
       "      <td>0.365</td>\n",
       "      <td>0.095</td>\n",
       "      <td>0.5140</td>\n",
       "      <td>0.2245</td>\n",
       "      <td>0.1010</td>\n",
       "      <td>0.150</td>\n",
       "      <td>16.5</td>\n",
       "    </tr>\n",
       "    <tr>\n",
       "      <th>1</th>\n",
       "      <td>M</td>\n",
       "      <td>0.350</td>\n",
       "      <td>0.265</td>\n",
       "      <td>0.090</td>\n",
       "      <td>0.2255</td>\n",
       "      <td>0.0995</td>\n",
       "      <td>0.0485</td>\n",
       "      <td>0.070</td>\n",
       "      <td>8.5</td>\n",
       "    </tr>\n",
       "    <tr>\n",
       "      <th>2</th>\n",
       "      <td>F</td>\n",
       "      <td>0.530</td>\n",
       "      <td>0.420</td>\n",
       "      <td>0.135</td>\n",
       "      <td>0.6770</td>\n",
       "      <td>0.2565</td>\n",
       "      <td>0.1415</td>\n",
       "      <td>0.210</td>\n",
       "      <td>10.5</td>\n",
       "    </tr>\n",
       "    <tr>\n",
       "      <th>3</th>\n",
       "      <td>M</td>\n",
       "      <td>0.440</td>\n",
       "      <td>0.365</td>\n",
       "      <td>0.125</td>\n",
       "      <td>0.5160</td>\n",
       "      <td>0.2155</td>\n",
       "      <td>0.1140</td>\n",
       "      <td>0.155</td>\n",
       "      <td>11.5</td>\n",
       "    </tr>\n",
       "    <tr>\n",
       "      <th>4</th>\n",
       "      <td>I</td>\n",
       "      <td>0.330</td>\n",
       "      <td>0.255</td>\n",
       "      <td>0.080</td>\n",
       "      <td>0.2050</td>\n",
       "      <td>0.0895</td>\n",
       "      <td>0.0395</td>\n",
       "      <td>0.055</td>\n",
       "      <td>8.5</td>\n",
       "    </tr>\n",
       "  </tbody>\n",
       "</table>\n",
       "</div>"
      ],
      "text/plain": [
       "  Sex  Length  Diameter  Height  Whole weight  Shucked weight  Viscera weight  \\\n",
       "0   M   0.455     0.365   0.095        0.5140          0.2245          0.1010   \n",
       "1   M   0.350     0.265   0.090        0.2255          0.0995          0.0485   \n",
       "2   F   0.530     0.420   0.135        0.6770          0.2565          0.1415   \n",
       "3   M   0.440     0.365   0.125        0.5160          0.2155          0.1140   \n",
       "4   I   0.330     0.255   0.080        0.2050          0.0895          0.0395   \n",
       "\n",
       "   Shell weight   age  \n",
       "0         0.150  16.5  \n",
       "1         0.070   8.5  \n",
       "2         0.210  10.5  \n",
       "3         0.155  11.5  \n",
       "4         0.055   8.5  "
      ]
     },
     "execution_count": 11,
     "metadata": {},
     "output_type": "execute_result"
    }
   ],
   "source": [
    "df.head()"
   ]
  },
  {
   "cell_type": "code",
   "execution_count": 12,
   "metadata": {},
   "outputs": [
    {
     "data": {
      "text/plain": [
       "(4177, 9)"
      ]
     },
     "execution_count": 12,
     "metadata": {},
     "output_type": "execute_result"
    }
   ],
   "source": [
    "df.shape"
   ]
  },
  {
   "cell_type": "code",
   "execution_count": 13,
   "metadata": {},
   "outputs": [
    {
     "data": {
      "text/html": [
       "<div>\n",
       "<style scoped>\n",
       "    .dataframe tbody tr th:only-of-type {\n",
       "        vertical-align: middle;\n",
       "    }\n",
       "\n",
       "    .dataframe tbody tr th {\n",
       "        vertical-align: top;\n",
       "    }\n",
       "\n",
       "    .dataframe thead th {\n",
       "        text-align: right;\n",
       "    }\n",
       "</style>\n",
       "<table border=\"1\" class=\"dataframe\">\n",
       "  <thead>\n",
       "    <tr style=\"text-align: right;\">\n",
       "      <th></th>\n",
       "      <th>Length</th>\n",
       "      <th>Diameter</th>\n",
       "      <th>Height</th>\n",
       "      <th>Whole weight</th>\n",
       "      <th>Shucked weight</th>\n",
       "      <th>Viscera weight</th>\n",
       "      <th>Shell weight</th>\n",
       "      <th>age</th>\n",
       "    </tr>\n",
       "  </thead>\n",
       "  <tbody>\n",
       "    <tr>\n",
       "      <th>count</th>\n",
       "      <td>4177.000000</td>\n",
       "      <td>4177.000000</td>\n",
       "      <td>4177.000000</td>\n",
       "      <td>4177.000000</td>\n",
       "      <td>4177.000000</td>\n",
       "      <td>4177.000000</td>\n",
       "      <td>4177.000000</td>\n",
       "      <td>4177.000000</td>\n",
       "    </tr>\n",
       "    <tr>\n",
       "      <th>mean</th>\n",
       "      <td>0.523992</td>\n",
       "      <td>0.407881</td>\n",
       "      <td>0.139516</td>\n",
       "      <td>0.828742</td>\n",
       "      <td>0.359367</td>\n",
       "      <td>0.180594</td>\n",
       "      <td>0.238831</td>\n",
       "      <td>11.433684</td>\n",
       "    </tr>\n",
       "    <tr>\n",
       "      <th>std</th>\n",
       "      <td>0.120093</td>\n",
       "      <td>0.099240</td>\n",
       "      <td>0.041827</td>\n",
       "      <td>0.490389</td>\n",
       "      <td>0.221963</td>\n",
       "      <td>0.109614</td>\n",
       "      <td>0.139203</td>\n",
       "      <td>3.224169</td>\n",
       "    </tr>\n",
       "    <tr>\n",
       "      <th>min</th>\n",
       "      <td>0.075000</td>\n",
       "      <td>0.055000</td>\n",
       "      <td>0.000000</td>\n",
       "      <td>0.002000</td>\n",
       "      <td>0.001000</td>\n",
       "      <td>0.000500</td>\n",
       "      <td>0.001500</td>\n",
       "      <td>2.500000</td>\n",
       "    </tr>\n",
       "    <tr>\n",
       "      <th>25%</th>\n",
       "      <td>0.450000</td>\n",
       "      <td>0.350000</td>\n",
       "      <td>0.115000</td>\n",
       "      <td>0.441500</td>\n",
       "      <td>0.186000</td>\n",
       "      <td>0.093500</td>\n",
       "      <td>0.130000</td>\n",
       "      <td>9.500000</td>\n",
       "    </tr>\n",
       "    <tr>\n",
       "      <th>50%</th>\n",
       "      <td>0.545000</td>\n",
       "      <td>0.425000</td>\n",
       "      <td>0.140000</td>\n",
       "      <td>0.799500</td>\n",
       "      <td>0.336000</td>\n",
       "      <td>0.171000</td>\n",
       "      <td>0.234000</td>\n",
       "      <td>10.500000</td>\n",
       "    </tr>\n",
       "    <tr>\n",
       "      <th>75%</th>\n",
       "      <td>0.615000</td>\n",
       "      <td>0.480000</td>\n",
       "      <td>0.165000</td>\n",
       "      <td>1.153000</td>\n",
       "      <td>0.502000</td>\n",
       "      <td>0.253000</td>\n",
       "      <td>0.329000</td>\n",
       "      <td>12.500000</td>\n",
       "    </tr>\n",
       "    <tr>\n",
       "      <th>max</th>\n",
       "      <td>0.815000</td>\n",
       "      <td>0.650000</td>\n",
       "      <td>1.130000</td>\n",
       "      <td>2.825500</td>\n",
       "      <td>1.488000</td>\n",
       "      <td>0.760000</td>\n",
       "      <td>1.005000</td>\n",
       "      <td>30.500000</td>\n",
       "    </tr>\n",
       "  </tbody>\n",
       "</table>\n",
       "</div>"
      ],
      "text/plain": [
       "            Length     Diameter       Height  Whole weight  Shucked weight  \\\n",
       "count  4177.000000  4177.000000  4177.000000   4177.000000     4177.000000   \n",
       "mean      0.523992     0.407881     0.139516      0.828742        0.359367   \n",
       "std       0.120093     0.099240     0.041827      0.490389        0.221963   \n",
       "min       0.075000     0.055000     0.000000      0.002000        0.001000   \n",
       "25%       0.450000     0.350000     0.115000      0.441500        0.186000   \n",
       "50%       0.545000     0.425000     0.140000      0.799500        0.336000   \n",
       "75%       0.615000     0.480000     0.165000      1.153000        0.502000   \n",
       "max       0.815000     0.650000     1.130000      2.825500        1.488000   \n",
       "\n",
       "       Viscera weight  Shell weight          age  \n",
       "count     4177.000000   4177.000000  4177.000000  \n",
       "mean         0.180594      0.238831    11.433684  \n",
       "std          0.109614      0.139203     3.224169  \n",
       "min          0.000500      0.001500     2.500000  \n",
       "25%          0.093500      0.130000     9.500000  \n",
       "50%          0.171000      0.234000    10.500000  \n",
       "75%          0.253000      0.329000    12.500000  \n",
       "max          0.760000      1.005000    30.500000  "
      ]
     },
     "execution_count": 13,
     "metadata": {},
     "output_type": "execute_result"
    }
   ],
   "source": [
    "df.describe()"
   ]
  },
  {
   "cell_type": "code",
   "execution_count": 15,
   "metadata": {},
   "outputs": [
    {
     "data": {
      "text/plain": [
       "Sex                  3\n",
       "Length             134\n",
       "Diameter           111\n",
       "Height              51\n",
       "Whole weight      2429\n",
       "Shucked weight    1515\n",
       "Viscera weight     880\n",
       "Shell weight       926\n",
       "age                 28\n",
       "dtype: int64"
      ]
     },
     "execution_count": 15,
     "metadata": {},
     "output_type": "execute_result"
    }
   ],
   "source": [
    "df.nunique()"
   ]
  },
  {
   "cell_type": "code",
   "execution_count": 18,
   "metadata": {},
   "outputs": [
    {
     "data": {
      "text/plain": [
       "Sex                object\n",
       "Length            float64\n",
       "Diameter          float64\n",
       "Height            float64\n",
       "Whole weight      float64\n",
       "Shucked weight    float64\n",
       "Viscera weight    float64\n",
       "Shell weight      float64\n",
       "age               float64\n",
       "dtype: object"
      ]
     },
     "execution_count": 18,
     "metadata": {},
     "output_type": "execute_result"
    }
   ],
   "source": [
    "df.dtypes"
   ]
  },
  {
   "cell_type": "code",
   "execution_count": 30,
   "metadata": {},
   "outputs": [],
   "source": [
    "df_nomi=df[['Sex']].copy()"
   ]
  },
  {
   "cell_type": "code",
   "execution_count": 31,
   "metadata": {},
   "outputs": [
    {
     "data": {
      "text/plain": [
       "Index(['Sex'], dtype='object')"
      ]
     },
     "execution_count": 31,
     "metadata": {},
     "output_type": "execute_result"
    }
   ],
   "source": [
    "df_nomi.columns"
   ]
  },
  {
   "cell_type": "code",
   "execution_count": 32,
   "metadata": {},
   "outputs": [
    {
     "data": {
      "text/plain": [
       "4177"
      ]
     },
     "execution_count": 32,
     "metadata": {},
     "output_type": "execute_result"
    }
   ],
   "source": [
    "len(df_nomi)"
   ]
  },
  {
   "cell_type": "markdown",
   "metadata": {},
   "source": [
    "Using count plot for nominal data"
   ]
  },
  {
   "cell_type": "code",
   "execution_count": 33,
   "metadata": {},
   "outputs": [],
   "source": [
    "import seaborn as sns"
   ]
  },
  {
   "cell_type": "code",
   "execution_count": 35,
   "metadata": {},
   "outputs": [
    {
     "name": "stdout",
     "output_type": "stream",
     "text": [
      "M    1528\n",
      "I    1342\n",
      "F    1307\n",
      "Name: Sex, dtype: int64\n"
     ]
    },
    {
     "data": {
      "image/png": "[encoded data removed]",
      "text/plain": [
       "<Figure size 432x288 with 1 Axes>"
      ]
     },
     "metadata": {
      "needs_background": "light"
     },
     "output_type": "display_data"
    }
   ],
   "source": [
    "g=sns.countplot(x=\"Sex\",data=df_nomi)\n",
    "print(df_nomi[\"Sex\"].value_counts())"
   ]
  },
  {
   "cell_type": "markdown",
   "metadata": {},
   "source": [
    "From the above observation the male abalone present in data are 1528,female abalone present are 1342 and infants are 1307"
   ]
  },
  {
   "cell_type": "markdown",
   "metadata": {},
   "source": [
    "For ordinal data lets use lineplot"
   ]
  },
  {
   "cell_type": "code",
   "execution_count": 36,
   "metadata": {},
   "outputs": [],
   "source": [
    "df_ordi=df[['Length','Diameter','Height','Whole weight','Shucked weight','Viscera weight','Shell weight','age']]"
   ]
  },
  {
   "cell_type": "code",
   "execution_count": 37,
   "metadata": {},
   "outputs": [
    {
     "data": {
      "text/plain": [
       "Index(['Length', 'Diameter', 'Height', 'Whole weight', 'Shucked weight',\n",
       "       'Viscera weight', 'Shell weight', 'age'],\n",
       "      dtype='object')"
      ]
     },
     "execution_count": 37,
     "metadata": {},
     "output_type": "execute_result"
    }
   ],
   "source": [
    "df_ordi.columns"
   ]
  },
  {
   "cell_type": "code",
   "execution_count": 41,
   "metadata": {},
   "outputs": [
    {
     "data": {
      "text/plain": [
       "<seaborn.axisgrid.FacetGrid at 0x2f77dcd3280>"
      ]
     },
     "execution_count": 41,
     "metadata": {},
     "output_type": "execute_result"
    },
    {
     "data": {
      "image/png": "[encoded data removed]",
      "text/plain": [
       "<Figure size 360x360 with 1 Axes>"
      ]
     },
     "metadata": {
      "needs_background": "light"
     },
     "output_type": "display_data"
    }
   ],
   "source": [
    "sns.catplot(x='Length',y='age',data=df_ordi)"
   ]
  },
  {
   "cell_type": "code",
   "execution_count": 42,
   "metadata": {},
   "outputs": [
    {
     "data": {
      "text/plain": [
       "<seaborn.axisgrid.FacetGrid at 0x2f77e005040>"
      ]
     },
     "execution_count": 42,
     "metadata": {},
     "output_type": "execute_result"
    },
    {
     "data": {
      "image/png": "[encoded data removed]",
      "text/plain": [
       "<Figure size 360x360 with 1 Axes>"
      ]
     },
     "metadata": {
      "needs_background": "light"
     },
     "output_type": "display_data"
    }
   ],
   "source": [
    "sns.catplot(x='Diameter',y='age',data=df_ordi)"
   ]
  },
  {
   "cell_type": "code",
   "execution_count": 51,
   "metadata": {},
   "outputs": [
    {
     "data": {
      "text/plain": [
       "<seaborn.axisgrid.FacetGrid at 0x2f77fd299d0>"
      ]
     },
     "execution_count": 51,
     "metadata": {},
     "output_type": "execute_result"
    },
    {
     "data": {
      "image/png": "[encoded data removed]",
      "text/plain": [
       "<Figure size 360x360 with 1 Axes>"
      ]
     },
     "metadata": {
      "needs_background": "light"
     },
     "output_type": "display_data"
    }
   ],
   "source": [
    "sns.catplot(x='Height',y='age',data=df_ordi)"
   ]
  },
  {
   "cell_type": "code",
   "execution_count": 54,
   "metadata": {},
   "outputs": [
    {
     "data": {
      "image/png": "[encoded data removed]",
      "text/plain": [
       "<Figure size 1080x3600 with 8 Axes>"
      ]
     },
     "metadata": {
      "needs_background": "light"
     },
     "output_type": "display_data"
    }
   ],
   "source": [
    "#Visualize the outliers using boxplot\n",
    "import matplotlib.pyplot as plt\n",
    "plt.figure(figsize=(15,50))\n",
    "graph=1\n",
    "for column in df_ordi:\n",
    "    if graph<=30:\n",
    "        ax=plt.subplot(10,3,graph)\n",
    "        sns.boxplot(df_ordi[column],orient='v')\n",
    "        plt.xlabel(column,fontsize=10)\n",
    "    graph+=1\n",
    "plt.show()"
   ]
  },
  {
   "cell_type": "markdown",
   "metadata": {},
   "source": [
    "We can observe outliers in Length,Diameter,Height,Whole weight,Shucked weight,Viscera weight,shell weight and age.So lets work on removing outliers first"
   ]
  },
  {
   "cell_type": "code",
   "execution_count": 55,
   "metadata": {},
   "outputs": [
    {
     "data": {
      "text/html": [
       "<div>\n",
       "<style scoped>\n",
       "    .dataframe tbody tr th:only-of-type {\n",
       "        vertical-align: middle;\n",
       "    }\n",
       "\n",
       "    .dataframe tbody tr th {\n",
       "        vertical-align: top;\n",
       "    }\n",
       "\n",
       "    .dataframe thead th {\n",
       "        text-align: right;\n",
       "    }\n",
       "</style>\n",
       "<table border=\"1\" class=\"dataframe\">\n",
       "  <thead>\n",
       "    <tr style=\"text-align: right;\">\n",
       "      <th></th>\n",
       "      <th>Length</th>\n",
       "      <th>Diameter</th>\n",
       "      <th>Height</th>\n",
       "      <th>Whole weight</th>\n",
       "      <th>Shucked weight</th>\n",
       "      <th>Viscera weight</th>\n",
       "      <th>Shell weight</th>\n",
       "      <th>age</th>\n",
       "    </tr>\n",
       "  </thead>\n",
       "  <tbody>\n",
       "    <tr>\n",
       "      <th>count</th>\n",
       "      <td>4027.000000</td>\n",
       "      <td>4027.000000</td>\n",
       "      <td>4027.000000</td>\n",
       "      <td>4027.000000</td>\n",
       "      <td>4027.000000</td>\n",
       "      <td>4027.000000</td>\n",
       "      <td>4027.000000</td>\n",
       "      <td>4027.000000</td>\n",
       "    </tr>\n",
       "    <tr>\n",
       "      <th>mean</th>\n",
       "      <td>0.520987</td>\n",
       "      <td>0.405300</td>\n",
       "      <td>0.138002</td>\n",
       "      <td>0.802805</td>\n",
       "      <td>0.349099</td>\n",
       "      <td>0.175718</td>\n",
       "      <td>0.230676</td>\n",
       "      <td>11.238763</td>\n",
       "    </tr>\n",
       "    <tr>\n",
       "      <th>std</th>\n",
       "      <td>0.115910</td>\n",
       "      <td>0.095903</td>\n",
       "      <td>0.036878</td>\n",
       "      <td>0.456192</td>\n",
       "      <td>0.206406</td>\n",
       "      <td>0.103350</td>\n",
       "      <td>0.127939</td>\n",
       "      <td>2.864691</td>\n",
       "    </tr>\n",
       "    <tr>\n",
       "      <th>min</th>\n",
       "      <td>0.165000</td>\n",
       "      <td>0.115000</td>\n",
       "      <td>0.015000</td>\n",
       "      <td>0.014500</td>\n",
       "      <td>0.005500</td>\n",
       "      <td>0.000500</td>\n",
       "      <td>0.005000</td>\n",
       "      <td>4.500000</td>\n",
       "    </tr>\n",
       "    <tr>\n",
       "      <th>25%</th>\n",
       "      <td>0.450000</td>\n",
       "      <td>0.345000</td>\n",
       "      <td>0.115000</td>\n",
       "      <td>0.438000</td>\n",
       "      <td>0.182000</td>\n",
       "      <td>0.091750</td>\n",
       "      <td>0.127750</td>\n",
       "      <td>9.500000</td>\n",
       "    </tr>\n",
       "    <tr>\n",
       "      <th>50%</th>\n",
       "      <td>0.540000</td>\n",
       "      <td>0.420000</td>\n",
       "      <td>0.140000</td>\n",
       "      <td>0.783000</td>\n",
       "      <td>0.329500</td>\n",
       "      <td>0.167000</td>\n",
       "      <td>0.225000</td>\n",
       "      <td>10.500000</td>\n",
       "    </tr>\n",
       "    <tr>\n",
       "      <th>75%</th>\n",
       "      <td>0.610000</td>\n",
       "      <td>0.480000</td>\n",
       "      <td>0.165000</td>\n",
       "      <td>1.131250</td>\n",
       "      <td>0.493500</td>\n",
       "      <td>0.246500</td>\n",
       "      <td>0.320000</td>\n",
       "      <td>12.500000</td>\n",
       "    </tr>\n",
       "    <tr>\n",
       "      <th>max</th>\n",
       "      <td>0.760000</td>\n",
       "      <td>0.605000</td>\n",
       "      <td>0.250000</td>\n",
       "      <td>2.238500</td>\n",
       "      <td>1.017000</td>\n",
       "      <td>0.492500</td>\n",
       "      <td>0.655000</td>\n",
       "      <td>20.500000</td>\n",
       "    </tr>\n",
       "  </tbody>\n",
       "</table>\n",
       "</div>"
      ],
      "text/plain": [
       "            Length     Diameter       Height  Whole weight  Shucked weight  \\\n",
       "count  4027.000000  4027.000000  4027.000000   4027.000000     4027.000000   \n",
       "mean      0.520987     0.405300     0.138002      0.802805        0.349099   \n",
       "std       0.115910     0.095903     0.036878      0.456192        0.206406   \n",
       "min       0.165000     0.115000     0.015000      0.014500        0.005500   \n",
       "25%       0.450000     0.345000     0.115000      0.438000        0.182000   \n",
       "50%       0.540000     0.420000     0.140000      0.783000        0.329500   \n",
       "75%       0.610000     0.480000     0.165000      1.131250        0.493500   \n",
       "max       0.760000     0.605000     0.250000      2.238500        1.017000   \n",
       "\n",
       "       Viscera weight  Shell weight          age  \n",
       "count     4027.000000   4027.000000  4027.000000  \n",
       "mean         0.175718      0.230676    11.238763  \n",
       "std          0.103350      0.127939     2.864691  \n",
       "min          0.000500      0.005000     4.500000  \n",
       "25%          0.091750      0.127750     9.500000  \n",
       "50%          0.167000      0.225000    10.500000  \n",
       "75%          0.246500      0.320000    12.500000  \n",
       "max          0.492500      0.655000    20.500000  "
      ]
     },
     "execution_count": 55,
     "metadata": {},
     "output_type": "execute_result"
    }
   ],
   "source": [
    "#for removing outliers implementing zscore\n",
    "from scipy.stats import zscore\n",
    "z_score=zscore(df[['Length','Diameter','Height','Whole weight','Shucked weight','Viscera weight','Shell weight','age']])\n",
    "abs_z_score=np.abs(z_score)\n",
    "\n",
    "filtering_entry=(abs_z_score<3).all(axis=1)\n",
    "\n",
    "df=df[filtering_entry]\n",
    "\n",
    "df.describe()"
   ]
  },
  {
   "cell_type": "code",
   "execution_count": 56,
   "metadata": {},
   "outputs": [],
   "source": [
    "df_ordi=df[['Length','Diameter','Height','Whole weight','Shucked weight','Viscera weight','Shell weight','age']]"
   ]
  },
  {
   "cell_type": "code",
   "execution_count": 57,
   "metadata": {},
   "outputs": [
    {
     "data": {
      "image/png": "[encoded data removed]",
      "text/plain": [
       "<Figure size 1080x3600 with 8 Axes>"
      ]
     },
     "metadata": {
      "needs_background": "light"
     },
     "output_type": "display_data"
    }
   ],
   "source": [
    "#Visualize the outliers using boxplot\n",
    "import matplotlib.pyplot as plt\n",
    "plt.figure(figsize=(15,50))\n",
    "graph=1\n",
    "for column in df_ordi:\n",
    "    if graph<=30:\n",
    "        ax=plt.subplot(10,3,graph)\n",
    "        sns.boxplot(df_ordi[column],orient='v')\n",
    "        plt.xlabel(column,fontsize=10)\n",
    "    graph+=1\n",
    "plt.show()"
   ]
  },
  {
   "cell_type": "markdown",
   "metadata": {},
   "source": [
    "By observing most of the outliers are removed,We could remove the other outliers but it will lead to loss of more data.As data is essential lets not lose it"
   ]
  },
  {
   "cell_type": "markdown",
   "metadata": {},
   "source": [
    "#### Correlation"
   ]
  },
  {
   "cell_type": "code",
   "execution_count": 58,
   "metadata": {},
   "outputs": [
    {
     "data": {
      "text/html": [
       "<div>\n",
       "<style scoped>\n",
       "    .dataframe tbody tr th:only-of-type {\n",
       "        vertical-align: middle;\n",
       "    }\n",
       "\n",
       "    .dataframe tbody tr th {\n",
       "        vertical-align: top;\n",
       "    }\n",
       "\n",
       "    .dataframe thead th {\n",
       "        text-align: right;\n",
       "    }\n",
       "</style>\n",
       "<table border=\"1\" class=\"dataframe\">\n",
       "  <thead>\n",
       "    <tr style=\"text-align: right;\">\n",
       "      <th></th>\n",
       "      <th>Length</th>\n",
       "      <th>Diameter</th>\n",
       "      <th>Height</th>\n",
       "      <th>Whole weight</th>\n",
       "      <th>Shucked weight</th>\n",
       "      <th>Viscera weight</th>\n",
       "      <th>Shell weight</th>\n",
       "      <th>age</th>\n",
       "    </tr>\n",
       "  </thead>\n",
       "  <tbody>\n",
       "    <tr>\n",
       "      <th>Length</th>\n",
       "      <td>1.000000</td>\n",
       "      <td>0.986011</td>\n",
       "      <td>0.895432</td>\n",
       "      <td>0.934410</td>\n",
       "      <td>0.909245</td>\n",
       "      <td>0.907957</td>\n",
       "      <td>0.914518</td>\n",
       "      <td>0.567074</td>\n",
       "    </tr>\n",
       "    <tr>\n",
       "      <th>Diameter</th>\n",
       "      <td>0.986011</td>\n",
       "      <td>1.000000</td>\n",
       "      <td>0.901803</td>\n",
       "      <td>0.934069</td>\n",
       "      <td>0.904302</td>\n",
       "      <td>0.904192</td>\n",
       "      <td>0.921779</td>\n",
       "      <td>0.584978</td>\n",
       "    </tr>\n",
       "    <tr>\n",
       "      <th>Height</th>\n",
       "      <td>0.895432</td>\n",
       "      <td>0.901803</td>\n",
       "      <td>1.000000</td>\n",
       "      <td>0.891783</td>\n",
       "      <td>0.843010</td>\n",
       "      <td>0.869273</td>\n",
       "      <td>0.899716</td>\n",
       "      <td>0.612540</td>\n",
       "    </tr>\n",
       "    <tr>\n",
       "      <th>Whole weight</th>\n",
       "      <td>0.934410</td>\n",
       "      <td>0.934069</td>\n",
       "      <td>0.891783</td>\n",
       "      <td>1.000000</td>\n",
       "      <td>0.971024</td>\n",
       "      <td>0.966612</td>\n",
       "      <td>0.961216</td>\n",
       "      <td>0.548295</td>\n",
       "    </tr>\n",
       "    <tr>\n",
       "      <th>Shucked weight</th>\n",
       "      <td>0.909245</td>\n",
       "      <td>0.904302</td>\n",
       "      <td>0.843010</td>\n",
       "      <td>0.971024</td>\n",
       "      <td>1.000000</td>\n",
       "      <td>0.930154</td>\n",
       "      <td>0.896220</td>\n",
       "      <td>0.440424</td>\n",
       "    </tr>\n",
       "    <tr>\n",
       "      <th>Viscera weight</th>\n",
       "      <td>0.907957</td>\n",
       "      <td>0.904192</td>\n",
       "      <td>0.869273</td>\n",
       "      <td>0.966612</td>\n",
       "      <td>0.930154</td>\n",
       "      <td>1.000000</td>\n",
       "      <td>0.919414</td>\n",
       "      <td>0.522917</td>\n",
       "    </tr>\n",
       "    <tr>\n",
       "      <th>Shell weight</th>\n",
       "      <td>0.914518</td>\n",
       "      <td>0.921779</td>\n",
       "      <td>0.899716</td>\n",
       "      <td>0.961216</td>\n",
       "      <td>0.896220</td>\n",
       "      <td>0.919414</td>\n",
       "      <td>1.000000</td>\n",
       "      <td>0.622872</td>\n",
       "    </tr>\n",
       "    <tr>\n",
       "      <th>age</th>\n",
       "      <td>0.567074</td>\n",
       "      <td>0.584978</td>\n",
       "      <td>0.612540</td>\n",
       "      <td>0.548295</td>\n",
       "      <td>0.440424</td>\n",
       "      <td>0.522917</td>\n",
       "      <td>0.622872</td>\n",
       "      <td>1.000000</td>\n",
       "    </tr>\n",
       "  </tbody>\n",
       "</table>\n",
       "</div>"
      ],
      "text/plain": [
       "                  Length  Diameter    Height  Whole weight  Shucked weight  \\\n",
       "Length          1.000000  0.986011  0.895432      0.934410        0.909245   \n",
       "Diameter        0.986011  1.000000  0.901803      0.934069        0.904302   \n",
       "Height          0.895432  0.901803  1.000000      0.891783        0.843010   \n",
       "Whole weight    0.934410  0.934069  0.891783      1.000000        0.971024   \n",
       "Shucked weight  0.909245  0.904302  0.843010      0.971024        1.000000   \n",
       "Viscera weight  0.907957  0.904192  0.869273      0.966612        0.930154   \n",
       "Shell weight    0.914518  0.921779  0.899716      0.961216        0.896220   \n",
       "age             0.567074  0.584978  0.612540      0.548295        0.440424   \n",
       "\n",
       "                Viscera weight  Shell weight       age  \n",
       "Length                0.907957      0.914518  0.567074  \n",
       "Diameter              0.904192      0.921779  0.584978  \n",
       "Height                0.869273      0.899716  0.612540  \n",
       "Whole weight          0.966612      0.961216  0.548295  \n",
       "Shucked weight        0.930154      0.896220  0.440424  \n",
       "Viscera weight        1.000000      0.919414  0.522917  \n",
       "Shell weight          0.919414      1.000000  0.622872  \n",
       "age                   0.522917      0.622872  1.000000  "
      ]
     },
     "execution_count": 58,
     "metadata": {},
     "output_type": "execute_result"
    }
   ],
   "source": [
    "df.corr()"
   ]
  },
  {
   "cell_type": "code",
   "execution_count": 59,
   "metadata": {},
   "outputs": [
    {
     "data": {
      "text/plain": [
       "<matplotlib.axes._subplots.AxesSubplot at 0x2f77ff02730>"
      ]
     },
     "execution_count": 59,
     "metadata": {},
     "output_type": "execute_result"
    },
    {
     "data": {
      "image/png": "[encoded data removed]",
      "text/plain": [
       "<Figure size 1584x504 with 2 Axes>"
      ]
     },
     "metadata": {
      "needs_background": "light"
     },
     "output_type": "display_data"
    }
   ],
   "source": [
    "#Now lets plot heatmap based on the correlation\n",
    "plt.figure(figsize=(22,7))\n",
    "sns.heatmap(df.corr(),annot=True)"
   ]
  },
  {
   "cell_type": "markdown",
   "metadata": {},
   "source": [
    "Checking columns which are positively correlated and negatively correlated with target column"
   ]
  },
  {
   "cell_type": "code",
   "execution_count": 60,
   "metadata": {},
   "outputs": [
    {
     "data": {
      "text/plain": [
       "<matplotlib.axes._subplots.AxesSubplot at 0x2f710726400>"
      ]
     },
     "execution_count": 60,
     "metadata": {},
     "output_type": "execute_result"
    },
    {
     "data": {
      "image/png": "[encoded data removed]",
      "text/plain": [
       "<Figure size 1584x504 with 1 Axes>"
      ]
     },
     "metadata": {
      "needs_background": "light"
     },
     "output_type": "display_data"
    }
   ],
   "source": [
    "plt.figure(figsize=(22,7))\n",
    "df.corr()['age'].sort_values(ascending=False).drop(['age']).plot(kind='bar',color='c')\n"
   ]
  },
  {
   "cell_type": "markdown",
   "metadata": {},
   "source": [
    "Any column is not negatively correlated with age(target) column"
   ]
  },
  {
   "cell_type": "code",
   "execution_count": 61,
   "metadata": {},
   "outputs": [
    {
     "data": {
      "text/plain": [
       "Length           -0.623076\n",
       "Diameter         -0.598650\n",
       "Height           -0.244251\n",
       "Whole weight      0.334204\n",
       "Shucked weight    0.458295\n",
       "Viscera weight    0.437116\n",
       "Shell weight      0.349471\n",
       "age               0.725464\n",
       "dtype: float64"
      ]
     },
     "execution_count": 61,
     "metadata": {},
     "output_type": "execute_result"
    }
   ],
   "source": [
    "df.skew()"
   ]
  },
  {
   "cell_type": "markdown",
   "metadata": {},
   "source": [
    "If considering +/-0.5 is the skewness range,no column is having skewness in the data"
   ]
  },
  {
   "cell_type": "code",
   "execution_count": 62,
   "metadata": {},
   "outputs": [
    {
     "data": {
      "text/plain": [
       "(4027, 9)"
      ]
     },
     "execution_count": 62,
     "metadata": {},
     "output_type": "execute_result"
    }
   ],
   "source": [
    "df.shape"
   ]
  },
  {
   "cell_type": "code",
   "execution_count": 63,
   "metadata": {},
   "outputs": [
    {
     "data": {
      "text/plain": [
       "3.5910940866650707"
      ]
     },
     "execution_count": 63,
     "metadata": {},
     "output_type": "execute_result"
    }
   ],
   "source": [
    "Data_loss=((4177-4027)/4177)*100\n",
    "Data_loss"
   ]
  },
  {
   "cell_type": "code",
   "execution_count": 76,
   "metadata": {},
   "outputs": [],
   "source": [
    "df=df.drop(\"Sex\",axis=1)"
   ]
  },
  {
   "cell_type": "code",
   "execution_count": 77,
   "metadata": {},
   "outputs": [
    {
     "data": {
      "text/html": [
       "<div>\n",
       "<style scoped>\n",
       "    .dataframe tbody tr th:only-of-type {\n",
       "        vertical-align: middle;\n",
       "    }\n",
       "\n",
       "    .dataframe tbody tr th {\n",
       "        vertical-align: top;\n",
       "    }\n",
       "\n",
       "    .dataframe thead th {\n",
       "        text-align: right;\n",
       "    }\n",
       "</style>\n",
       "<table border=\"1\" class=\"dataframe\">\n",
       "  <thead>\n",
       "    <tr style=\"text-align: right;\">\n",
       "      <th></th>\n",
       "      <th>Length</th>\n",
       "      <th>Diameter</th>\n",
       "      <th>Height</th>\n",
       "      <th>Whole weight</th>\n",
       "      <th>Shucked weight</th>\n",
       "      <th>Viscera weight</th>\n",
       "      <th>Shell weight</th>\n",
       "      <th>age</th>\n",
       "    </tr>\n",
       "  </thead>\n",
       "  <tbody>\n",
       "    <tr>\n",
       "      <th>0</th>\n",
       "      <td>0.455</td>\n",
       "      <td>0.365</td>\n",
       "      <td>0.095</td>\n",
       "      <td>0.5140</td>\n",
       "      <td>0.2245</td>\n",
       "      <td>0.1010</td>\n",
       "      <td>0.150</td>\n",
       "      <td>16.5</td>\n",
       "    </tr>\n",
       "    <tr>\n",
       "      <th>1</th>\n",
       "      <td>0.350</td>\n",
       "      <td>0.265</td>\n",
       "      <td>0.090</td>\n",
       "      <td>0.2255</td>\n",
       "      <td>0.0995</td>\n",
       "      <td>0.0485</td>\n",
       "      <td>0.070</td>\n",
       "      <td>8.5</td>\n",
       "    </tr>\n",
       "    <tr>\n",
       "      <th>2</th>\n",
       "      <td>0.530</td>\n",
       "      <td>0.420</td>\n",
       "      <td>0.135</td>\n",
       "      <td>0.6770</td>\n",
       "      <td>0.2565</td>\n",
       "      <td>0.1415</td>\n",
       "      <td>0.210</td>\n",
       "      <td>10.5</td>\n",
       "    </tr>\n",
       "    <tr>\n",
       "      <th>3</th>\n",
       "      <td>0.440</td>\n",
       "      <td>0.365</td>\n",
       "      <td>0.125</td>\n",
       "      <td>0.5160</td>\n",
       "      <td>0.2155</td>\n",
       "      <td>0.1140</td>\n",
       "      <td>0.155</td>\n",
       "      <td>11.5</td>\n",
       "    </tr>\n",
       "    <tr>\n",
       "      <th>4</th>\n",
       "      <td>0.330</td>\n",
       "      <td>0.255</td>\n",
       "      <td>0.080</td>\n",
       "      <td>0.2050</td>\n",
       "      <td>0.0895</td>\n",
       "      <td>0.0395</td>\n",
       "      <td>0.055</td>\n",
       "      <td>8.5</td>\n",
       "    </tr>\n",
       "  </tbody>\n",
       "</table>\n",
       "</div>"
      ],
      "text/plain": [
       "   Length  Diameter  Height  Whole weight  Shucked weight  Viscera weight  \\\n",
       "0   0.455     0.365   0.095        0.5140          0.2245          0.1010   \n",
       "1   0.350     0.265   0.090        0.2255          0.0995          0.0485   \n",
       "2   0.530     0.420   0.135        0.6770          0.2565          0.1415   \n",
       "3   0.440     0.365   0.125        0.5160          0.2155          0.1140   \n",
       "4   0.330     0.255   0.080        0.2050          0.0895          0.0395   \n",
       "\n",
       "   Shell weight   age  \n",
       "0         0.150  16.5  \n",
       "1         0.070   8.5  \n",
       "2         0.210  10.5  \n",
       "3         0.155  11.5  \n",
       "4         0.055   8.5  "
      ]
     },
     "execution_count": 77,
     "metadata": {},
     "output_type": "execute_result"
    }
   ],
   "source": [
    "df.head()"
   ]
  },
  {
   "cell_type": "markdown",
   "metadata": {},
   "source": [
    "## Separating the columns into features and targets"
   ]
  },
  {
   "cell_type": "code",
   "execution_count": 78,
   "metadata": {},
   "outputs": [],
   "source": [
    "features=df.drop(\"age\",axis=1)\n",
    "target=df[\"age\"]"
   ]
  },
  {
   "cell_type": "markdown",
   "metadata": {},
   "source": [
    "Scaling the data using min max scaler"
   ]
  },
  {
   "cell_type": "code",
   "execution_count": 79,
   "metadata": {},
   "outputs": [],
   "source": [
    "from sklearn.preprocessing import MinMaxScaler\n",
    "mns=MinMaxScaler()\n",
    "from sklearn.linear_model import LinearRegression\n",
    "lr=LinearRegression()\n",
    "from sklearn.metrics import r2_score\n",
    "from sklearn.model_selection import train_test_split"
   ]
  },
  {
   "cell_type": "code",
   "execution_count": 85,
   "metadata": {},
   "outputs": [
    {
     "name": "stdout",
     "output_type": "stream",
     "text": [
      "At random state 0,the training accuracy is :-0.5202917566934693\n",
      "At random state 0,the testing  accuracy is :-0.4847325569333535\n",
      "\n",
      "\n",
      "At random state 1,the training accuracy is :-0.5177925127351461\n",
      "At random state 1,the testing  accuracy is :-0.49323974342352916\n",
      "\n",
      "\n",
      "At random state 2,the training accuracy is :-0.5178273753915938\n",
      "At random state 2,the testing  accuracy is :-0.49683296181369263\n",
      "\n",
      "\n",
      "At random state 3,the training accuracy is :-0.5140849843375958\n",
      "At random state 3,the testing  accuracy is :-0.5100341073832136\n",
      "\n",
      "\n",
      "At random state 4,the training accuracy is :-0.5115040470803244\n",
      "At random state 4,the testing  accuracy is :-0.5208240908907475\n",
      "\n",
      "\n",
      "At random state 5,the training accuracy is :-0.5196975908267016\n",
      "At random state 5,the testing  accuracy is :-0.4880127152405409\n",
      "\n",
      "\n",
      "At random state 6,the training accuracy is :-0.5106601582234374\n",
      "At random state 6,the testing  accuracy is :-0.5233738043168703\n",
      "\n",
      "\n",
      "At random state 7,the training accuracy is :-0.5211948731384631\n",
      "At random state 7,the testing  accuracy is :-0.48073396833908477\n",
      "\n",
      "\n",
      "At random state 8,the training accuracy is :-0.5108923269823098\n",
      "At random state 8,the testing  accuracy is :-0.5232855323314347\n",
      "\n",
      "\n",
      "At random state 9,the training accuracy is :-0.509804356970274\n",
      "At random state 9,the testing  accuracy is :-0.5274052151333606\n",
      "\n",
      "\n",
      "At random state 10,the training accuracy is :-0.5078326420731853\n",
      "At random state 10,the testing  accuracy is :-0.5334203546681884\n",
      "\n",
      "\n",
      "At random state 11,the training accuracy is :-0.5059144466260999\n",
      "At random state 11,the testing  accuracy is :-0.5449690522888339\n",
      "\n",
      "\n",
      "At random state 12,the training accuracy is :-0.5077862838446583\n",
      "At random state 12,the testing  accuracy is :-0.535409242538727\n",
      "\n",
      "\n",
      "At random state 13,the training accuracy is :-0.5133493938039388\n",
      "At random state 13,the testing  accuracy is :-0.5137713509686491\n",
      "\n",
      "\n",
      "At random state 14,the training accuracy is :-0.5141638406922977\n",
      "At random state 14,the testing  accuracy is :-0.5089395793793734\n",
      "\n",
      "\n",
      "At random state 15,the training accuracy is :-0.5113015563268516\n",
      "At random state 15,the testing  accuracy is :-0.5224678616143865\n",
      "\n",
      "\n",
      "At random state 16,the training accuracy is :-0.5087237505956984\n",
      "At random state 16,the testing  accuracy is :-0.5308150848997164\n",
      "\n",
      "\n",
      "At random state 17,the training accuracy is :-0.5201764212248341\n",
      "At random state 17,the testing  accuracy is :-0.48734718236289853\n",
      "\n",
      "\n",
      "At random state 18,the training accuracy is :-0.5081326852308778\n",
      "At random state 18,the testing  accuracy is :-0.5355233634808954\n",
      "\n",
      "\n",
      "At random state 19,the training accuracy is :-0.5263871821718475\n",
      "At random state 19,the testing  accuracy is :-0.46566147116488155\n",
      "\n",
      "\n",
      "At random state 20,the training accuracy is :-0.5090364402003925\n",
      "At random state 20,the testing  accuracy is :-0.529467840621762\n",
      "\n",
      "\n",
      "At random state 21,the training accuracy is :-0.5136133395372375\n",
      "At random state 21,the testing  accuracy is :-0.5122446672802273\n",
      "\n",
      "\n",
      "At random state 22,the training accuracy is :-0.5092758391837839\n",
      "At random state 22,the testing  accuracy is :-0.5257164327340166\n",
      "\n",
      "\n",
      "At random state 23,the training accuracy is :-0.5116732184817705\n",
      "At random state 23,the testing  accuracy is :-0.519505557286214\n",
      "\n",
      "\n",
      "At random state 24,the training accuracy is :-0.5138259632285733\n",
      "At random state 24,the testing  accuracy is :-0.5114246378966496\n",
      "\n",
      "\n",
      "At random state 25,the training accuracy is :-0.5183420100610109\n",
      "At random state 25,the testing  accuracy is :-0.49633428844316174\n",
      "\n",
      "\n",
      "At random state 26,the training accuracy is :-0.5170693471731342\n",
      "At random state 26,the testing  accuracy is :-0.49884301557297794\n",
      "\n",
      "\n",
      "At random state 27,the training accuracy is :-0.5169755176908308\n",
      "At random state 27,the testing  accuracy is :-0.4959522043839605\n",
      "\n",
      "\n",
      "At random state 28,the training accuracy is :-0.5103536062340277\n",
      "At random state 28,the testing  accuracy is :-0.5252378117709757\n",
      "\n",
      "\n",
      "At random state 29,the training accuracy is :-0.5081011186076201\n",
      "At random state 29,the testing  accuracy is :-0.5347000612965844\n",
      "\n",
      "\n",
      "At random state 30,the training accuracy is :-0.5133020024350909\n",
      "At random state 30,the testing  accuracy is :-0.5133938547914603\n",
      "\n",
      "\n",
      "At random state 31,the training accuracy is :-0.5147291836416783\n",
      "At random state 31,the testing  accuracy is :-0.5063553539074124\n",
      "\n",
      "\n",
      "At random state 32,the training accuracy is :-0.5134201415439319\n",
      "At random state 32,the testing  accuracy is :-0.511802530559935\n",
      "\n",
      "\n",
      "At random state 33,the training accuracy is :-0.5182653319150208\n",
      "At random state 33,the testing  accuracy is :-0.4945893215450061\n",
      "\n",
      "\n",
      "At random state 34,the training accuracy is :-0.5143936538873646\n",
      "At random state 34,the testing  accuracy is :-0.509764772322381\n",
      "\n",
      "\n",
      "At random state 35,the training accuracy is :-0.5120592442187364\n",
      "At random state 35,the testing  accuracy is :-0.5154733649159096\n",
      "\n",
      "\n",
      "At random state 36,the training accuracy is :-0.5174011665352032\n",
      "At random state 36,the testing  accuracy is :-0.4977744696969377\n",
      "\n",
      "\n",
      "At random state 37,the training accuracy is :-0.5127809502369698\n",
      "At random state 37,the testing  accuracy is :-0.5161754678403269\n",
      "\n",
      "\n",
      "At random state 38,the training accuracy is :-0.5106122637936221\n",
      "At random state 38,the testing  accuracy is :-0.5243721905037909\n",
      "\n",
      "\n",
      "At random state 39,the training accuracy is :-0.5142381152960771\n",
      "At random state 39,the testing  accuracy is :-0.5093058716905827\n",
      "\n",
      "\n",
      "At random state 40,the training accuracy is :-0.5065684367913625\n",
      "At random state 40,the testing  accuracy is :-0.5409635663990384\n",
      "\n",
      "\n",
      "At random state 41,the training accuracy is :-0.5096868822556853\n",
      "At random state 41,the testing  accuracy is :-0.5265760212149009\n",
      "\n",
      "\n",
      "At random state 42,the training accuracy is :-0.51339059461956\n",
      "At random state 42,the testing  accuracy is :-0.5103640881328124\n",
      "\n",
      "\n",
      "At random state 43,the training accuracy is :-0.5157766102131799\n",
      "At random state 43,the testing  accuracy is :-0.5028527309991163\n",
      "\n",
      "\n",
      "At random state 44,the training accuracy is :-0.5138537116245252\n",
      "At random state 44,the testing  accuracy is :-0.5092765914507147\n",
      "\n",
      "\n",
      "At random state 45,the training accuracy is :-0.5008921407827345\n",
      "At random state 45,the testing  accuracy is :-0.559968468052721\n",
      "\n",
      "\n",
      "At random state 46,the training accuracy is :-0.5146322733608757\n",
      "At random state 46,the testing  accuracy is :-0.5062174790373757\n",
      "\n",
      "\n",
      "At random state 47,the training accuracy is :-0.5125030062635849\n",
      "At random state 47,the testing  accuracy is :-0.5165272258409757\n",
      "\n",
      "\n",
      "At random state 48,the training accuracy is :-0.5185050989587514\n",
      "At random state 48,the testing  accuracy is :-0.4917811022566386\n",
      "\n",
      "\n",
      "At random state 49,the training accuracy is :-0.508442609373811\n",
      "At random state 49,the testing  accuracy is :-0.5344681382749197\n",
      "\n",
      "\n",
      "At random state 50,the training accuracy is :-0.5107040891187913\n",
      "At random state 50,the testing  accuracy is :-0.5245845823767056\n",
      "\n",
      "\n",
      "At random state 51,the training accuracy is :-0.5053581463370572\n",
      "At random state 51,the testing  accuracy is :-0.5383625950517494\n",
      "\n",
      "\n",
      "At random state 52,the training accuracy is :-0.5152104878712458\n",
      "At random state 52,the testing  accuracy is :-0.5025658333738989\n",
      "\n",
      "\n",
      "At random state 53,the training accuracy is :-0.5301835876732401\n",
      "At random state 53,the testing  accuracy is :-0.42551472950884484\n",
      "\n",
      "\n",
      "At random state 54,the training accuracy is :-0.521347346355924\n",
      "At random state 54,the testing  accuracy is :-0.48234342225555205\n",
      "\n",
      "\n",
      "At random state 55,the training accuracy is :-0.5095172718727474\n",
      "At random state 55,the testing  accuracy is :-0.5291957484519337\n",
      "\n",
      "\n",
      "At random state 56,the training accuracy is :-0.5197905535862494\n",
      "At random state 56,the testing  accuracy is :-0.4859772981999422\n",
      "\n",
      "\n",
      "At random state 57,the training accuracy is :-0.5088397698952141\n",
      "At random state 57,the testing  accuracy is :-0.5309450548536641\n",
      "\n",
      "\n",
      "At random state 58,the training accuracy is :-0.5059293171284216\n",
      "At random state 58,the testing  accuracy is :-0.5414898253975997\n",
      "\n",
      "\n",
      "At random state 59,the training accuracy is :-0.5092417860307283\n",
      "At random state 59,the testing  accuracy is :-0.5271389189524665\n",
      "\n",
      "\n",
      "At random state 60,the training accuracy is :-0.5066629189796108\n",
      "At random state 60,the testing  accuracy is :-0.540128095373319\n",
      "\n",
      "\n",
      "At random state 61,the training accuracy is :-0.5214978410504845\n",
      "At random state 61,the testing  accuracy is :-0.48283243785972496\n",
      "\n",
      "\n",
      "At random state 62,the training accuracy is :-0.5003518468562125\n",
      "At random state 62,the testing  accuracy is :-0.567273324322028\n",
      "\n",
      "\n",
      "At random state 63,the training accuracy is :-0.5209584538117693\n",
      "At random state 63,the testing  accuracy is :-0.48065874117029983\n",
      "\n",
      "\n",
      "At random state 64,the training accuracy is :-0.5142336829777199\n",
      "At random state 64,the testing  accuracy is :-0.5102579208538576\n",
      "\n",
      "\n",
      "At random state 65,the training accuracy is :-0.509914591593805\n",
      "At random state 65,the testing  accuracy is :-0.5255188304356629\n",
      "\n",
      "\n",
      "At random state 66,the training accuracy is :-0.5091058133716697\n",
      "At random state 66,the testing  accuracy is :-0.5307377880773896\n",
      "\n",
      "\n",
      "At random state 67,the training accuracy is :-0.5158450111055173\n",
      "At random state 67,the testing  accuracy is :-0.5043790130689554\n",
      "\n",
      "\n",
      "At random state 68,the training accuracy is :-0.5163190609855032\n",
      "At random state 68,the testing  accuracy is :-0.5005784626479461\n",
      "\n",
      "\n",
      "At random state 69,the training accuracy is :-0.5107913016601444\n",
      "At random state 69,the testing  accuracy is :-0.5220557798117147\n",
      "\n",
      "\n",
      "At random state 70,the training accuracy is :-0.51352062093522\n",
      "At random state 70,the testing  accuracy is :-0.512160040523006\n",
      "\n",
      "\n",
      "At random state 71,the training accuracy is :-0.5085340378472856\n",
      "At random state 71,the testing  accuracy is :-0.5334740178500388\n",
      "\n",
      "\n",
      "At random state 72,the training accuracy is :-0.504647921404373\n",
      "At random state 72,the testing  accuracy is :-0.5430719391262886\n",
      "\n",
      "\n",
      "At random state 73,the training accuracy is :-0.5086317257870367\n",
      "At random state 73,the testing  accuracy is :-0.5286092448122302\n",
      "\n",
      "\n",
      "At random state 74,the training accuracy is :-0.5098295791424305\n",
      "At random state 74,the testing  accuracy is :-0.5257359559177653\n",
      "\n",
      "\n",
      "At random state 75,the training accuracy is :-0.5171795035418275\n",
      "At random state 75,the testing  accuracy is :-0.4989109039853322\n",
      "\n",
      "\n",
      "At random state 76,the training accuracy is :-0.513911072463126\n",
      "At random state 76,the testing  accuracy is :-0.5111189262250513\n",
      "\n",
      "\n",
      "At random state 77,the training accuracy is :-0.5141994101607348\n",
      "At random state 77,the testing  accuracy is :-0.5103372911833222\n",
      "\n",
      "\n",
      "At random state 78,the training accuracy is :-0.5119939376407053\n",
      "At random state 78,the testing  accuracy is :-0.5188804296577199\n",
      "\n",
      "\n",
      "At random state 79,the training accuracy is :-0.5092674187500992\n",
      "At random state 79,the testing  accuracy is :-0.5294107694384333\n",
      "\n",
      "\n",
      "At random state 80,the training accuracy is :-0.5096149578587086\n",
      "At random state 80,the testing  accuracy is :-0.5285992473845353\n",
      "\n",
      "\n"
     ]
    },
    {
     "name": "stdout",
     "output_type": "stream",
     "text": [
      "At random state 81,the training accuracy is :-0.507767782872593\n",
      "At random state 81,the testing  accuracy is :-0.5347815049520537\n",
      "\n",
      "\n",
      "At random state 82,the training accuracy is :-0.49944145214785574\n",
      "At random state 82,the testing  accuracy is :-0.5624244718393829\n",
      "\n",
      "\n",
      "At random state 83,the training accuracy is :-0.5181589989394974\n",
      "At random state 83,the testing  accuracy is :-0.49540187973739735\n",
      "\n",
      "\n",
      "At random state 84,the training accuracy is :-0.5198292261912831\n",
      "At random state 84,the testing  accuracy is :-0.48727810300974195\n",
      "\n",
      "\n",
      "At random state 85,the training accuracy is :-0.5196527581164214\n",
      "At random state 85,the testing  accuracy is :-0.4875249369082588\n",
      "\n",
      "\n",
      "At random state 86,the training accuracy is :-0.5101620573821843\n",
      "At random state 86,the testing  accuracy is :-0.5280732070811678\n",
      "\n",
      "\n",
      "At random state 87,the training accuracy is :-0.5169768294918702\n",
      "At random state 87,the testing  accuracy is :-0.4985980859595971\n",
      "\n",
      "\n",
      "At random state 88,the training accuracy is :-0.5131279762027343\n",
      "At random state 88,the testing  accuracy is :-0.5145296694778254\n",
      "\n",
      "\n",
      "At random state 89,the training accuracy is :-0.5121750415887347\n",
      "At random state 89,the testing  accuracy is :-0.5183404642793008\n",
      "\n",
      "\n",
      "At random state 90,the training accuracy is :-0.5058936891621066\n",
      "At random state 90,the testing  accuracy is :-0.5435075707409356\n",
      "\n",
      "\n",
      "At random state 91,the training accuracy is :-0.5166056470639098\n",
      "At random state 91,the testing  accuracy is :-0.49723174491618527\n",
      "\n",
      "\n",
      "At random state 92,the training accuracy is :-0.5054975938353838\n",
      "At random state 92,the testing  accuracy is :-0.53819976011994\n",
      "\n",
      "\n",
      "At random state 93,the training accuracy is :-0.5217738026899847\n",
      "At random state 93,the testing  accuracy is :-0.4799398860702663\n",
      "\n",
      "\n",
      "At random state 94,the training accuracy is :-0.515877867019932\n",
      "At random state 94,the testing  accuracy is :-0.5023091733357004\n",
      "\n",
      "\n",
      "At random state 95,the training accuracy is :-0.5080695841669439\n",
      "At random state 95,the testing  accuracy is :-0.5320482633935439\n",
      "\n",
      "\n",
      "At random state 96,the training accuracy is :-0.5175483860474949\n",
      "At random state 96,the testing  accuracy is :-0.4972320225228518\n",
      "\n",
      "\n",
      "At random state 97,the training accuracy is :-0.5073888780809128\n",
      "At random state 97,the testing  accuracy is :-0.5370611949826116\n",
      "\n",
      "\n",
      "At random state 98,the training accuracy is :-0.5080247046121815\n",
      "At random state 98,the testing  accuracy is :-0.5304939346878885\n",
      "\n",
      "\n",
      "At random state 99,the training accuracy is :-0.5106169625507547\n",
      "At random state 99,the testing  accuracy is :-0.5239534674987946\n",
      "\n",
      "\n"
     ]
    }
   ],
   "source": [
    "for i in range(0,100):\n",
    "    features_train,features_test,target_train,target_test=train_test_split(features,target,test_size=0.2,random_state=i)\n",
    "    lr.fit(features_train,target_train)\n",
    "    pred_train=lr.predict(features_train)\n",
    "    pred_test=lr.predict(features_test)\n",
    "    print(f\"At random state {i},the training accuracy is :-{r2_score(target_train,pred_train)}\")\n",
    "    print(f\"At random state {i},the testing  accuracy is :-{r2_score(target_test,pred_test)}\")\n",
    "    print(\"\\n\")        "
   ]
  },
  {
   "cell_type": "code",
   "execution_count": 86,
   "metadata": {},
   "outputs": [],
   "source": [
    "#As every accuracy is atmost same with every random state,considering better among them which is 62\n",
    "features_train,features_test,target_train,target_test=train_test_split(features,target,test_size=0.2,random_state=62)"
   ]
  },
  {
   "cell_type": "code",
   "execution_count": 87,
   "metadata": {},
   "outputs": [
    {
     "data": {
      "text/plain": [
       "LinearRegression()"
      ]
     },
     "execution_count": 87,
     "metadata": {},
     "output_type": "execute_result"
    }
   ],
   "source": [
    "lr.fit(features_train,target_train)"
   ]
  },
  {
   "cell_type": "code",
   "execution_count": 88,
   "metadata": {},
   "outputs": [],
   "source": [
    "pred_test=lr.predict(features_test)"
   ]
  },
  {
   "cell_type": "code",
   "execution_count": 89,
   "metadata": {},
   "outputs": [
    {
     "name": "stdout",
     "output_type": "stream",
     "text": [
      "0.567273324322028\n"
     ]
    }
   ],
   "source": [
    "print(r2_score(target_test,pred_test))"
   ]
  },
  {
   "cell_type": "markdown",
   "metadata": {},
   "source": [
    "## Cross Validation of the model"
   ]
  },
  {
   "cell_type": "code",
   "execution_count": 96,
   "metadata": {},
   "outputs": [
    {
     "name": "stdout",
     "output_type": "stream",
     "text": [
      "At cross fold 2 the cv score is 0.5094824858937593 and accuracy score for training is -0.4878246627792133 and accuracy for testing is 0.567273324322028\n",
      "\n",
      "\n",
      "At cross fold 3 the cv score is 0.49565653312425045 and accuracy score for training is -0.4878246627792133 and accuracy for testing is 0.567273324322028\n",
      "\n",
      "\n",
      "At cross fold 4 the cv score is 0.42079913386716633 and accuracy score for training is -0.4878246627792133 and accuracy for testing is 0.567273324322028\n",
      "\n",
      "\n",
      "At cross fold 5 the cv score is 0.41472280082211926 and accuracy score for training is -0.4878246627792133 and accuracy for testing is 0.567273324322028\n",
      "\n",
      "\n",
      "At cross fold 6 the cv score is 0.4265019701260826 and accuracy score for training is -0.4878246627792133 and accuracy for testing is 0.567273324322028\n",
      "\n",
      "\n",
      "At cross fold 7 the cv score is 0.4367255328621922 and accuracy score for training is -0.4878246627792133 and accuracy for testing is 0.567273324322028\n",
      "\n",
      "\n",
      "At cross fold 8 the cv score is 0.3981480939372855 and accuracy score for training is -0.4878246627792133 and accuracy for testing is 0.567273324322028\n",
      "\n",
      "\n",
      "At cross fold 9 the cv score is 0.42785869383903197 and accuracy score for training is -0.4878246627792133 and accuracy for testing is 0.567273324322028\n",
      "\n",
      "\n"
     ]
    }
   ],
   "source": [
    "Train_accuracy=r2_score(target_train,pred_train)\n",
    "Test_accuracy=r2_score(target_test,pred_test)\n",
    "\n",
    "from sklearn.model_selection import cross_val_score\n",
    "for j in range(2,10):\n",
    "    cv_score=cross_val_score(lr,features,target,cv=j)\n",
    "    cv_mean=cv_score.mean()\n",
    "    print(f\"At cross fold {j} the cv score is {cv_mean} and accuracy score for training is {Train_accuracy} and accuracy for testing is {Test_accuracy}\")\n",
    "    print(\"\\n\")"
   ]
  },
  {
   "cell_type": "markdown",
   "metadata": {},
   "source": [
    "As the accuracy obtained and accuracy by the folds are almost same there is no over or under fitting"
   ]
  },
  {
   "cell_type": "code",
   "execution_count": 99,
   "metadata": {},
   "outputs": [
    {
     "data": {
      "image/png": "[encoded data removed]",
      "text/plain": [
       "<Figure size 576x432 with 1 Axes>"
      ]
     },
     "metadata": {
      "needs_background": "light"
     },
     "output_type": "display_data"
    }
   ],
   "source": [
    "plt.figure(figsize=(8,6))\n",
    "plt.scatter(x=target_test,y=pred_test,color='r')\n",
    "plt.plot(target_test,target_test,color='b')\n",
    "plt.xlabel(\"Actual age\",fontsize=14)\n",
    "plt.ylabel(\"Predicted age\",fontsize=14)\n",
    "plt.title(\"Linear Regression\",fontsize=18)\n",
    "plt.show()"
   ]
  },
  {
   "cell_type": "markdown",
   "metadata": {},
   "source": [
    "### Regularization"
   ]
  },
  {
   "cell_type": "code",
   "execution_count": 101,
   "metadata": {},
   "outputs": [],
   "source": [
    "from sklearn.model_selection import GridSearchCV\n",
    "from sklearn.model_selection import cross_val_score\n"
   ]
  },
  {
   "cell_type": "code",
   "execution_count": 103,
   "metadata": {},
   "outputs": [
    {
     "name": "stdout",
     "output_type": "stream",
     "text": [
      "{'alpha': 0.0001, 'random_state': 0}\n"
     ]
    }
   ],
   "source": [
    "from sklearn.linear_model import Lasso\n",
    "parameters={'alpha':[.0001,.001,.01,.1,1,10],'random_state':list(range(0,10))}\n",
    "ls=Lasso()\n",
    "clf=GridSearchCV(ls,parameters)\n",
    "clf.fit(features_train,target_train)\n",
    "print(clf.best_params_)"
   ]
  },
  {
   "cell_type": "code",
   "execution_count": 105,
   "metadata": {},
   "outputs": [
    {
     "data": {
      "text/plain": [
       "0.5675085433798079"
      ]
     },
     "execution_count": 105,
     "metadata": {},
     "output_type": "execute_result"
    }
   ],
   "source": [
    "ls=Lasso(alpha=0.0001,random_state=0)\n",
    "ls.fit(features_train,target_train)\n",
    "ls.score(features_train,target_train)\n",
    "pred_ls=ls.predict(features_test)\n",
    "\n",
    "lss=r2_score(target_test,pred_ls)\n",
    "lss"
   ]
  },
  {
   "cell_type": "code",
   "execution_count": 106,
   "metadata": {},
   "outputs": [
    {
     "data": {
      "text/plain": [
       "0.41465013835064324"
      ]
     },
     "execution_count": 106,
     "metadata": {},
     "output_type": "execute_result"
    }
   ],
   "source": [
    "cv_score=cross_val_score(ls,features,target,cv=5)\n",
    "cv_mean=cv_score.mean()\n",
    "cv_mean"
   ]
  },
  {
   "cell_type": "code",
   "execution_count": 111,
   "metadata": {},
   "outputs": [],
   "source": [
    "import pickle\n",
    "filename='abalone.pkl'\n",
    "pickle.dump(rf,open(filename,'wb'))\n"
   ]
  },
  {
   "cell_type": "code",
   "execution_count": 116,
   "metadata": {},
   "outputs": [],
   "source": [
    "loaded=pickle.load(open('abalone.pkl','rb'))"
   ]
  },
  {
   "cell_type": "code",
   "execution_count": 117,
   "metadata": {},
   "outputs": [
    {
     "data": {
      "text/plain": [
       "0.5003518468562125"
      ]
     },
     "execution_count": 117,
     "metadata": {},
     "output_type": "execute_result"
    }
   ],
   "source": [
    "lr.score(features_train,target_train)"
   ]
  },
  {
   "cell_type": "code",
   "execution_count": null,
   "metadata": {},
   "outputs": [],
   "source": []
  }
 ],
 "metadata": {
  "kernelspec": {
   "display_name": "Python 3",
   "language": "python",
   "name": "python3"
  },
  "language_info": {
   "codemirror_mode": {
    "name": "ipython",
    "version": 3
   },
   "file_extension": ".py",
   "mimetype": "text/x-python",
   "name": "python",
   "nbconvert_exporter": "python",
   "pygments_lexer": "ipython3",
   "version": "3.8.3"
  }
 },
 "nbformat": 4,
 "nbformat_minor": 4
}
